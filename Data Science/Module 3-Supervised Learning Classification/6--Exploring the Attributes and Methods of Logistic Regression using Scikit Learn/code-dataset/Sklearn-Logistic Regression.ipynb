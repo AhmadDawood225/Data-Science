{
 "cells": [
  {
   "cell_type": "code",
   "execution_count": 91,
   "id": "latin-train",
   "metadata": {
    "id": "latin-train"
   },
   "outputs": [],
   "source": [
    "import numpy as np\n",
    "import pandas as pd\n",
    "import matplotlib.pyplot as plt\n",
    "import seaborn as sns\n",
    "import warnings\n",
    "warnings.filterwarnings('ignore')\n",
    "from sklearn.linear_model import LinearRegression"
   ]
  },
  {
   "cell_type": "markdown",
   "id": "quality-anime",
   "metadata": {
    "id": "quality-anime"
   },
   "source": [
    "# Loading Dataset - insurance_data"
   ]
  },
  {
   "cell_type": "code",
   "execution_count": 92,
   "id": "negative-lesson",
   "metadata": {
    "id": "negative-lesson"
   },
   "outputs": [],
   "source": [
    "data = pd.read_csv(\"insurance_data.csv\")"
   ]
  },
  {
   "cell_type": "code",
   "execution_count": 93,
   "id": "5c2204a0",
   "metadata": {},
   "outputs": [
    {
     "data": {
      "text/html": [
       "<div>\n",
       "<style scoped>\n",
       "    .dataframe tbody tr th:only-of-type {\n",
       "        vertical-align: middle;\n",
       "    }\n",
       "\n",
       "    .dataframe tbody tr th {\n",
       "        vertical-align: top;\n",
       "    }\n",
       "\n",
       "    .dataframe thead th {\n",
       "        text-align: right;\n",
       "    }\n",
       "</style>\n",
       "<table border=\"1\" class=\"dataframe\">\n",
       "  <thead>\n",
       "    <tr style=\"text-align: right;\">\n",
       "      <th></th>\n",
       "      <th>age</th>\n",
       "      <th>bought_insurance</th>\n",
       "    </tr>\n",
       "  </thead>\n",
       "  <tbody>\n",
       "    <tr>\n",
       "      <th>0</th>\n",
       "      <td>22</td>\n",
       "      <td>0</td>\n",
       "    </tr>\n",
       "    <tr>\n",
       "      <th>1</th>\n",
       "      <td>25</td>\n",
       "      <td>0</td>\n",
       "    </tr>\n",
       "    <tr>\n",
       "      <th>2</th>\n",
       "      <td>46</td>\n",
       "      <td>1</td>\n",
       "    </tr>\n",
       "    <tr>\n",
       "      <th>3</th>\n",
       "      <td>56</td>\n",
       "      <td>1</td>\n",
       "    </tr>\n",
       "    <tr>\n",
       "      <th>4</th>\n",
       "      <td>55</td>\n",
       "      <td>1</td>\n",
       "    </tr>\n",
       "    <tr>\n",
       "      <th>5</th>\n",
       "      <td>60</td>\n",
       "      <td>1</td>\n",
       "    </tr>\n",
       "    <tr>\n",
       "      <th>6</th>\n",
       "      <td>62</td>\n",
       "      <td>1</td>\n",
       "    </tr>\n",
       "    <tr>\n",
       "      <th>7</th>\n",
       "      <td>61</td>\n",
       "      <td>1</td>\n",
       "    </tr>\n",
       "    <tr>\n",
       "      <th>8</th>\n",
       "      <td>18</td>\n",
       "      <td>0</td>\n",
       "    </tr>\n",
       "    <tr>\n",
       "      <th>9</th>\n",
       "      <td>28</td>\n",
       "      <td>0</td>\n",
       "    </tr>\n",
       "    <tr>\n",
       "      <th>10</th>\n",
       "      <td>27</td>\n",
       "      <td>0</td>\n",
       "    </tr>\n",
       "    <tr>\n",
       "      <th>11</th>\n",
       "      <td>29</td>\n",
       "      <td>0</td>\n",
       "    </tr>\n",
       "    <tr>\n",
       "      <th>12</th>\n",
       "      <td>49</td>\n",
       "      <td>1</td>\n",
       "    </tr>\n",
       "    <tr>\n",
       "      <th>13</th>\n",
       "      <td>55</td>\n",
       "      <td>1</td>\n",
       "    </tr>\n",
       "    <tr>\n",
       "      <th>14</th>\n",
       "      <td>25</td>\n",
       "      <td>0</td>\n",
       "    </tr>\n",
       "    <tr>\n",
       "      <th>15</th>\n",
       "      <td>58</td>\n",
       "      <td>1</td>\n",
       "    </tr>\n",
       "    <tr>\n",
       "      <th>16</th>\n",
       "      <td>19</td>\n",
       "      <td>0</td>\n",
       "    </tr>\n",
       "    <tr>\n",
       "      <th>17</th>\n",
       "      <td>18</td>\n",
       "      <td>0</td>\n",
       "    </tr>\n",
       "    <tr>\n",
       "      <th>18</th>\n",
       "      <td>21</td>\n",
       "      <td>0</td>\n",
       "    </tr>\n",
       "    <tr>\n",
       "      <th>19</th>\n",
       "      <td>26</td>\n",
       "      <td>0</td>\n",
       "    </tr>\n",
       "    <tr>\n",
       "      <th>20</th>\n",
       "      <td>40</td>\n",
       "      <td>1</td>\n",
       "    </tr>\n",
       "    <tr>\n",
       "      <th>21</th>\n",
       "      <td>45</td>\n",
       "      <td>1</td>\n",
       "    </tr>\n",
       "    <tr>\n",
       "      <th>22</th>\n",
       "      <td>50</td>\n",
       "      <td>1</td>\n",
       "    </tr>\n",
       "    <tr>\n",
       "      <th>23</th>\n",
       "      <td>54</td>\n",
       "      <td>1</td>\n",
       "    </tr>\n",
       "    <tr>\n",
       "      <th>24</th>\n",
       "      <td>23</td>\n",
       "      <td>0</td>\n",
       "    </tr>\n",
       "  </tbody>\n",
       "</table>\n",
       "</div>"
      ],
      "text/plain": [
       "    age  bought_insurance\n",
       "0    22                 0\n",
       "1    25                 0\n",
       "2    46                 1\n",
       "3    56                 1\n",
       "4    55                 1\n",
       "5    60                 1\n",
       "6    62                 1\n",
       "7    61                 1\n",
       "8    18                 0\n",
       "9    28                 0\n",
       "10   27                 0\n",
       "11   29                 0\n",
       "12   49                 1\n",
       "13   55                 1\n",
       "14   25                 0\n",
       "15   58                 1\n",
       "16   19                 0\n",
       "17   18                 0\n",
       "18   21                 0\n",
       "19   26                 0\n",
       "20   40                 1\n",
       "21   45                 1\n",
       "22   50                 1\n",
       "23   54                 1\n",
       "24   23                 0"
      ]
     },
     "execution_count": 93,
     "metadata": {},
     "output_type": "execute_result"
    }
   ],
   "source": [
    "data"
   ]
  },
  {
   "cell_type": "code",
   "execution_count": 94,
   "id": "9ddf1c03",
   "metadata": {},
   "outputs": [
    {
     "data": {
      "image/png": "[encoded data removed]",
      "text/plain": [
       "<Figure size 432x288 with 1 Axes>"
      ]
     },
     "metadata": {
      "needs_background": "light"
     },
     "output_type": "display_data"
    }
   ],
   "source": [
    "sns.scatterplot(data=data,x='age',y='bought_insurance',color='red');"
   ]
  },
  {
   "cell_type": "code",
   "execution_count": 95,
   "id": "8eeb77fc",
   "metadata": {},
   "outputs": [
    {
     "data": {
      "text/plain": [
       "1    13\n",
       "0    12\n",
       "Name: bought_insurance, dtype: int64"
      ]
     },
     "execution_count": 95,
     "metadata": {},
     "output_type": "execute_result"
    }
   ],
   "source": [
    "data['bought_insurance'].value_counts()"
   ]
  },
  {
   "cell_type": "code",
   "execution_count": 96,
   "id": "33e154d8",
   "metadata": {},
   "outputs": [],
   "source": [
    "X = data.drop(\"bought_insurance\", axis = 1)\n",
    "Y = data.drop(\"age\", axis = 1)"
   ]
  },
  {
   "cell_type": "code",
   "execution_count": 97,
   "id": "a1590942",
   "metadata": {},
   "outputs": [],
   "source": [
    "linear_regressor=LinearRegression().fit(X, Y)"
   ]
  },
  {
   "cell_type": "code",
   "execution_count": 98,
   "id": "4c50553a",
   "metadata": {},
   "outputs": [
    {
     "data": {
      "text/plain": [
       "array([ 0.01679776,  0.10622944,  0.73225118,  1.03035678,  1.00054622,\n",
       "        1.14959901,  1.20922013,  1.17940957, -0.10244448,  0.19566111,\n",
       "        0.16585056,  0.22547167,  0.82168286,  1.00054622,  0.10622944,\n",
       "        1.08997789, -0.07263392, -0.10244448, -0.0130128 ,  0.13604   ,\n",
       "        0.55338783,  0.70244062,  0.85149342,  0.97073566,  0.04660832])"
      ]
     },
     "execution_count": 98,
     "metadata": {},
     "output_type": "execute_result"
    }
   ],
   "source": [
    "linear_regressor.predict(X).flatten()"
   ]
  },
  {
   "cell_type": "code",
   "execution_count": 99,
   "id": "41bbe7f9",
   "metadata": {},
   "outputs": [
    {
     "data": {
      "image/png": "[encoded data removed]",
      "text/plain": [
       "<Figure size 432x288 with 1 Axes>"
      ]
     },
     "metadata": {
      "needs_background": "light"
     },
     "output_type": "display_data"
    }
   ],
   "source": [
    "sns.scatterplot(data=data,x='age',y='bought_insurance',color='red');\n",
    "sns.lineplot(x=data['age'].values,y=linear_regressor.predict(X).flatten());"
   ]
  },
  {
   "cell_type": "code",
   "execution_count": 103,
   "id": "ddca829a",
   "metadata": {},
   "outputs": [],
   "source": [
    "data2=data.copy()"
   ]
  },
  {
   "cell_type": "code",
   "execution_count": 104,
   "id": "cf4a7ec9",
   "metadata": {},
   "outputs": [],
   "source": [
    "data2.loc[6,'age']=92"
   ]
  },
  {
   "cell_type": "code",
   "execution_count": 105,
   "id": "f9d5f7c7",
   "metadata": {},
   "outputs": [
    {
     "data": {
      "image/png": "[encoded data removed]",
      "text/plain": [
       "<Figure size 432x288 with 1 Axes>"
      ]
     },
     "metadata": {
      "needs_background": "light"
     },
     "output_type": "display_data"
    }
   ],
   "source": [
    "sns.scatterplot(data=data2,x='age',y='bought_insurance',color='red');"
   ]
  },
  {
   "cell_type": "code",
   "execution_count": 106,
   "id": "5593362c",
   "metadata": {},
   "outputs": [],
   "source": [
    "X2 = data2.drop(\"bought_insurance\", axis = 1)\n",
    "Y2 = data2.drop(\"age\", axis = 1)\n",
    "linear_regressor2=LinearRegression().fit(X2, Y2)"
   ]
  },
  {
   "cell_type": "code",
   "execution_count": 107,
   "id": "27b06fb7",
   "metadata": {},
   "outputs": [
    {
     "data": {
      "image/png": "[encoded data removed]",
      "text/plain": [
       "<Figure size 432x288 with 1 Axes>"
      ]
     },
     "metadata": {
      "needs_background": "light"
     },
     "output_type": "display_data"
    }
   ],
   "source": [
    "sns.scatterplot(data=data2,x='age',y='bought_insurance',color='red');\n",
    "sns.lineplot(x=data2['age'].values,y=linear_regressor2.predict(X2).flatten());"
   ]
  },
  {
   "cell_type": "code",
   "execution_count": 108,
   "id": "372d9b64",
   "metadata": {},
   "outputs": [
    {
     "data": {
      "text/plain": [
       "Text(0.5, 1.0, 'Extreme values')"
      ]
     },
     "execution_count": 108,
     "metadata": {},
     "output_type": "execute_result"
    },
    {
     "data": {
      "image/png": "[encoded data removed]",
      "text/plain": [
       "<Figure size 1152x432 with 2 Axes>"
      ]
     },
     "metadata": {
      "needs_background": "light"
     },
     "output_type": "display_data"
    }
   ],
   "source": [
    "plt.figure(figsize=(16, 6))\n",
    "\n",
    "plt.subplot(1, 2, 1)\n",
    "sns.scatterplot(data=data,x='age',y='bought_insurance',color='red');\n",
    "sns.lineplot(x=data['age'].values,y=linear_regressor.predict(X).flatten());\n",
    "plt.title(\"No extreme values\")\n",
    "\n",
    "\n",
    "plt.subplot(1, 2, 2)\n",
    "sns.scatterplot(data=data2,x='age',y='bought_insurance',color='red');\n",
    "sns.lineplot(x=data2['age'].values,y=linear_regressor2.predict(X2).flatten());\n",
    "plt.title(\"Extreme values\")\n",
    "\n"
   ]
  },
  {
   "cell_type": "markdown",
   "id": "4AYVMsxp7ady",
   "metadata": {
    "id": "4AYVMsxp7ady"
   },
   "source": [
    "# Logistic regression"
   ]
  },
  {
   "cell_type": "code",
   "execution_count": 109,
   "id": "FXmf7jgh7lGr",
   "metadata": {
    "id": "FXmf7jgh7lGr"
   },
   "outputs": [],
   "source": [
    "from sklearn.linear_model import LogisticRegression"
   ]
  },
  {
   "cell_type": "code",
   "execution_count": 110,
   "id": "-ysOucF-4ilz",
   "metadata": {
    "id": "-ysOucF-4ilz"
   },
   "outputs": [],
   "source": [
    "model=LogisticRegression().fit(X, Y)"
   ]
  },
  {
   "cell_type": "code",
   "execution_count": 164,
   "id": "bdaf51ae",
   "metadata": {},
   "outputs": [
    {
     "data": {
      "text/plain": [
       "{'C': 1.0,\n",
       " 'class_weight': None,\n",
       " 'dual': False,\n",
       " 'fit_intercept': True,\n",
       " 'intercept_scaling': 1,\n",
       " 'l1_ratio': None,\n",
       " 'max_iter': 100,\n",
       " 'multi_class': 'auto',\n",
       " 'n_jobs': None,\n",
       " 'penalty': 'l2',\n",
       " 'random_state': None,\n",
       " 'solver': 'lbfgs',\n",
       " 'tol': 0.0001,\n",
       " 'verbose': 0,\n",
       " 'warm_start': False}"
      ]
     },
     "execution_count": 164,
     "metadata": {},
     "output_type": "execute_result"
    }
   ],
   "source": [
    "model.get_params()"
   ]
  },
  {
   "cell_type": "code",
   "execution_count": 114,
   "id": "d48ad741",
   "metadata": {},
   "outputs": [
    {
     "data": {
      "text/plain": [
       "array([0, 0, 1, 1, 1, 1, 1, 1, 0, 0, 0, 0, 1, 1, 0, 1, 0, 0, 0, 0, 1, 1,\n",
       "       1, 1, 0], dtype=int64)"
      ]
     },
     "execution_count": 114,
     "metadata": {},
     "output_type": "execute_result"
    }
   ],
   "source": [
    "model.predict(X)"
   ]
  },
  {
   "cell_type": "code",
   "execution_count": 163,
   "id": "3085b785",
   "metadata": {},
   "outputs": [
    {
     "data": {
      "text/html": [
       "<div>\n",
       "<style scoped>\n",
       "    .dataframe tbody tr th:only-of-type {\n",
       "        vertical-align: middle;\n",
       "    }\n",
       "\n",
       "    .dataframe tbody tr th {\n",
       "        vertical-align: top;\n",
       "    }\n",
       "\n",
       "    .dataframe thead th {\n",
       "        text-align: right;\n",
       "    }\n",
       "</style>\n",
       "<table border=\"1\" class=\"dataframe\">\n",
       "  <thead>\n",
       "    <tr style=\"text-align: right;\">\n",
       "      <th></th>\n",
       "      <th>age</th>\n",
       "    </tr>\n",
       "  </thead>\n",
       "  <tbody>\n",
       "    <tr>\n",
       "      <th>0</th>\n",
       "      <td>22</td>\n",
       "    </tr>\n",
       "    <tr>\n",
       "      <th>1</th>\n",
       "      <td>25</td>\n",
       "    </tr>\n",
       "    <tr>\n",
       "      <th>2</th>\n",
       "      <td>46</td>\n",
       "    </tr>\n",
       "    <tr>\n",
       "      <th>3</th>\n",
       "      <td>56</td>\n",
       "    </tr>\n",
       "    <tr>\n",
       "      <th>4</th>\n",
       "      <td>55</td>\n",
       "    </tr>\n",
       "    <tr>\n",
       "      <th>5</th>\n",
       "      <td>60</td>\n",
       "    </tr>\n",
       "    <tr>\n",
       "      <th>6</th>\n",
       "      <td>62</td>\n",
       "    </tr>\n",
       "    <tr>\n",
       "      <th>7</th>\n",
       "      <td>61</td>\n",
       "    </tr>\n",
       "    <tr>\n",
       "      <th>8</th>\n",
       "      <td>18</td>\n",
       "    </tr>\n",
       "    <tr>\n",
       "      <th>9</th>\n",
       "      <td>28</td>\n",
       "    </tr>\n",
       "    <tr>\n",
       "      <th>10</th>\n",
       "      <td>27</td>\n",
       "    </tr>\n",
       "    <tr>\n",
       "      <th>11</th>\n",
       "      <td>29</td>\n",
       "    </tr>\n",
       "    <tr>\n",
       "      <th>12</th>\n",
       "      <td>49</td>\n",
       "    </tr>\n",
       "    <tr>\n",
       "      <th>13</th>\n",
       "      <td>55</td>\n",
       "    </tr>\n",
       "    <tr>\n",
       "      <th>14</th>\n",
       "      <td>25</td>\n",
       "    </tr>\n",
       "    <tr>\n",
       "      <th>15</th>\n",
       "      <td>58</td>\n",
       "    </tr>\n",
       "    <tr>\n",
       "      <th>16</th>\n",
       "      <td>19</td>\n",
       "    </tr>\n",
       "    <tr>\n",
       "      <th>17</th>\n",
       "      <td>18</td>\n",
       "    </tr>\n",
       "    <tr>\n",
       "      <th>18</th>\n",
       "      <td>21</td>\n",
       "    </tr>\n",
       "    <tr>\n",
       "      <th>19</th>\n",
       "      <td>26</td>\n",
       "    </tr>\n",
       "    <tr>\n",
       "      <th>20</th>\n",
       "      <td>40</td>\n",
       "    </tr>\n",
       "    <tr>\n",
       "      <th>21</th>\n",
       "      <td>45</td>\n",
       "    </tr>\n",
       "    <tr>\n",
       "      <th>22</th>\n",
       "      <td>50</td>\n",
       "    </tr>\n",
       "    <tr>\n",
       "      <th>23</th>\n",
       "      <td>54</td>\n",
       "    </tr>\n",
       "    <tr>\n",
       "      <th>24</th>\n",
       "      <td>23</td>\n",
       "    </tr>\n",
       "  </tbody>\n",
       "</table>\n",
       "</div>"
      ],
      "text/plain": [
       "    age\n",
       "0    22\n",
       "1    25\n",
       "2    46\n",
       "3    56\n",
       "4    55\n",
       "5    60\n",
       "6    62\n",
       "7    61\n",
       "8    18\n",
       "9    28\n",
       "10   27\n",
       "11   29\n",
       "12   49\n",
       "13   55\n",
       "14   25\n",
       "15   58\n",
       "16   19\n",
       "17   18\n",
       "18   21\n",
       "19   26\n",
       "20   40\n",
       "21   45\n",
       "22   50\n",
       "23   54\n",
       "24   23"
      ]
     },
     "execution_count": 163,
     "metadata": {},
     "output_type": "execute_result"
    }
   ],
   "source": [
    "X"
   ]
  },
  {
   "cell_type": "code",
   "execution_count": 165,
   "id": "b2257971",
   "metadata": {},
   "outputs": [
    {
     "data": {
      "text/plain": [
       "array([9.99704816e-01, 2.95184202e-04])"
      ]
     },
     "execution_count": 165,
     "metadata": {},
     "output_type": "execute_result"
    }
   ],
   "source": [
    "model.predict_proba(X)[0]"
   ]
  },
  {
   "cell_type": "code",
   "execution_count": 166,
   "id": "bcbc594a",
   "metadata": {},
   "outputs": [
    {
     "data": {
      "text/plain": [
       "0.9997048157976365"
      ]
     },
     "execution_count": 166,
     "metadata": {},
     "output_type": "execute_result"
    }
   ],
   "source": [
    "model.predict_proba(X)[0,0]  #1-p"
   ]
  },
  {
   "cell_type": "code",
   "execution_count": 169,
   "id": "8635eddc",
   "metadata": {},
   "outputs": [
    {
     "data": {
      "text/plain": [
       "0.00029518420236351796"
      ]
     },
     "execution_count": 169,
     "metadata": {},
     "output_type": "execute_result"
    }
   ],
   "source": [
    "model.predict_proba(X)[0,1]  #p"
   ]
  },
  {
   "cell_type": "code",
   "execution_count": 170,
   "id": "8a018029",
   "metadata": {},
   "outputs": [
    {
     "data": {
      "text/plain": [
       "array([2.95184202e-04, 1.89572522e-03, 9.98845877e-01, 9.99997666e-01,\n",
       "       9.99995659e-01, 9.99999805e-01, 9.99999944e-01, 9.99999895e-01,\n",
       "       2.46815870e-05, 1.20699045e-02, 6.52641313e-03, 2.22167032e-02,\n",
       "       9.99820404e-01, 9.99995659e-01, 1.89572522e-03, 9.99999325e-01,\n",
       "       4.59011162e-05, 2.46815870e-05, 1.58742421e-04, 3.51987706e-03,\n",
       "       9.54372395e-01, 9.97855724e-01, 9.99903423e-01, 9.99991926e-01,\n",
       "       5.48835617e-04])"
      ]
     },
     "execution_count": 170,
     "metadata": {},
     "output_type": "execute_result"
    }
   ],
   "source": [
    "model.predict_proba(X)[:,1]"
   ]
  },
  {
   "cell_type": "code",
   "execution_count": 116,
   "id": "0aa2a63b",
   "metadata": {},
   "outputs": [
    {
     "data": {
      "image/png": "[encoded data removed]",
      "text/plain": [
       "<Figure size 432x288 with 1 Axes>"
      ]
     },
     "metadata": {
      "needs_background": "light"
     },
     "output_type": "display_data"
    }
   ],
   "source": [
    "sns.scatterplot(data=data,x='age',y='bought_insurance',color='red');\n",
    "sns.lineplot(x=data['age'].values,y=model.predict_proba(X)[:,1]);"
   ]
  },
  {
   "cell_type": "code",
   "execution_count": 117,
   "id": "dc04fada",
   "metadata": {},
   "outputs": [
    {
     "data": {
      "image/png": "[encoded data removed]",
      "text/plain": [
       "<Figure size 432x288 with 1 Axes>"
      ]
     },
     "metadata": {
      "needs_background": "light"
     },
     "output_type": "display_data"
    }
   ],
   "source": [
    "model2=LogisticRegression().fit(X2, Y2)\n",
    "sns.scatterplot(data=data2,x='age',y='bought_insurance',color='red');\n",
    "sns.lineplot(x=data2['age'].values,y=model2.predict_proba(X2)[:,1]);"
   ]
  },
  {
   "cell_type": "code",
   "execution_count": 118,
   "id": "e2bc39d9",
   "metadata": {},
   "outputs": [
    {
     "data": {
      "text/plain": [
       "Text(0.5, 1.0, 'Extreme values')"
      ]
     },
     "execution_count": 118,
     "metadata": {},
     "output_type": "execute_result"
    },
    {
     "data": {
      "image/png": "[encoded data removed]",
      "text/plain": [
       "<Figure size 1152x432 with 2 Axes>"
      ]
     },
     "metadata": {
      "needs_background": "light"
     },
     "output_type": "display_data"
    }
   ],
   "source": [
    "plt.figure(figsize=(16, 6))\n",
    "\n",
    "plt.subplot(1, 2, 1)\n",
    "sns.scatterplot(data=data,x='age',y='bought_insurance',color='red');\n",
    "sns.lineplot(x=data['age'].values,y=model.predict_proba(X)[:,1]);\n",
    "plt.title(\"No extreme values\")\n",
    "\n",
    "\n",
    "plt.subplot(1, 2, 2)\n",
    "sns.scatterplot(data=data2,x='age',y='bought_insurance',color='red');\n",
    "sns.lineplot(x=data2['age'].values,y=model2.predict_proba(X2)[:,1]);\n",
    "plt.title(\"Extreme values\")\n",
    "\n"
   ]
  },
  {
   "cell_type": "markdown",
   "id": "525c9c47",
   "metadata": {},
   "source": [
    "# Sklearn Logistic Regression Class"
   ]
  },
  {
   "cell_type": "code",
   "execution_count": 311,
   "id": "271502fd",
   "metadata": {},
   "outputs": [
    {
     "data": {
      "text/plain": [
       "1.0"
      ]
     },
     "execution_count": 311,
     "metadata": {},
     "output_type": "execute_result"
    }
   ],
   "source": [
    "classifier1=LogisticRegression(penalty='l1',solver='liblinear',max_iter=1000,tol=0.00001).fit(X,Y)\n",
    "classifier1.score(X,Y)"
   ]
  },
  {
   "cell_type": "code",
   "execution_count": 254,
   "id": "94e6f1b0",
   "metadata": {},
   "outputs": [
    {
     "data": {
      "text/plain": [
       "{'C': 1.0,\n",
       " 'class_weight': None,\n",
       " 'dual': False,\n",
       " 'fit_intercept': True,\n",
       " 'intercept_scaling': 1,\n",
       " 'l1_ratio': None,\n",
       " 'max_iter': 50,\n",
       " 'multi_class': 'auto',\n",
       " 'n_jobs': None,\n",
       " 'penalty': 'l1',\n",
       " 'random_state': None,\n",
       " 'solver': 'liblinear',\n",
       " 'tol': 1e-05,\n",
       " 'verbose': 0,\n",
       " 'warm_start': False}"
      ]
     },
     "execution_count": 254,
     "metadata": {},
     "output_type": "execute_result"
    }
   ],
   "source": [
    "classifier1.get_params()"
   ]
  },
  {
   "cell_type": "code",
   "execution_count": 259,
   "id": "fe1cd898",
   "metadata": {},
   "outputs": [
    {
     "data": {
      "text/plain": [
       "LogisticRegression(max_iter=10000, penalty='l1', solver='saga', tol=1e-05)"
      ]
     },
     "execution_count": 259,
     "metadata": {},
     "output_type": "execute_result"
    }
   ],
   "source": [
    "classifier1.set_params(**{'max_iter':10000,'solver':'saga'})"
   ]
  },
  {
   "cell_type": "code",
   "execution_count": 260,
   "id": "582782e7",
   "metadata": {},
   "outputs": [
    {
     "data": {
      "text/plain": [
       "1.0"
      ]
     },
     "execution_count": 260,
     "metadata": {},
     "output_type": "execute_result"
    }
   ],
   "source": [
    "classifier1.fit(X,Y)\n",
    "classifier1.score(X,Y)"
   ]
  },
  {
   "cell_type": "code",
   "execution_count": 201,
   "id": "720ab75e",
   "metadata": {},
   "outputs": [
    {
     "data": {
      "text/plain": [
       "array([[0.8603752 , 0.1396248 ],\n",
       "       [0.79949938, 0.20050062],\n",
       "       [0.15928992, 0.84071008],\n",
       "       [0.0425202 , 0.9574798 ],\n",
       "       [0.04883478, 0.95116522],\n",
       "       [0.02425337, 0.97574663],\n",
       "       [0.01825651, 0.98174349],\n",
       "       [0.02104696, 0.97895304],\n",
       "       [0.91673053, 0.08326947],\n",
       "       [0.72069811, 0.27930189],\n",
       "       [0.74894764, 0.25105236],\n",
       "       [0.69058308, 0.30941692],\n",
       "       [0.10921718, 0.89078282],\n",
       "       [0.04883478, 0.95116522],\n",
       "       [0.79949938, 0.20050062],\n",
       "       [0.03215555, 0.96784445],\n",
       "       [0.90496501, 0.09503499],\n",
       "       [0.91673053, 0.08326947],\n",
       "       [0.87691018, 0.12308982],\n",
       "       [0.77523102, 0.22476898],\n",
       "       [0.31151667, 0.68848333],\n",
       "       [0.17969128, 0.82030872],\n",
       "       [0.0958819 , 0.9041181 ],\n",
       "       [0.05603225, 0.94396775],\n",
       "       [0.8420192 , 0.1579808 ]])"
      ]
     },
     "execution_count": 201,
     "metadata": {},
     "output_type": "execute_result"
    }
   ],
   "source": [
    "classifier1.predict_proba(X)"
   ]
  },
  {
   "cell_type": "code",
   "execution_count": 203,
   "id": "77a90dba",
   "metadata": {},
   "outputs": [
    {
     "data": {
      "text/plain": [
       "-0.15038670580685823"
      ]
     },
     "execution_count": 203,
     "metadata": {},
     "output_type": "execute_result"
    }
   ],
   "source": [
    "np.log(0.8603752)"
   ]
  },
  {
   "cell_type": "code",
   "execution_count": 202,
   "id": "b3bbcbf1",
   "metadata": {},
   "outputs": [
    {
     "data": {
      "text/plain": [
       "array([[-0.1503867 , -1.96879647],\n",
       "       [-0.22376952, -1.60693795],\n",
       "       [-1.83702936, -0.17350841],\n",
       "       [-3.15777608, -0.04345065],\n",
       "       [-3.01931248, -0.0500675 ],\n",
       "       [-3.71919955, -0.02455233],\n",
       "       [-4.00323333, -0.01842522],\n",
       "       [-3.86099926, -0.0212716 ],\n",
       "       [-0.08694171, -2.48567327],\n",
       "       [-0.32753494, -1.27546203],\n",
       "       [-0.28908621, -1.38209374],\n",
       "       [-0.370219  , -1.17306564],\n",
       "       [-2.21441693, -0.11565463],\n",
       "       [-3.01931248, -0.0500675 ],\n",
       "       [-0.22376952, -1.60693795],\n",
       "       [-3.43717022, -0.0326839 ],\n",
       "       [-0.099859  , -2.35351011],\n",
       "       [-0.08694171, -2.48567327],\n",
       "       [-0.13135071, -2.09484093],\n",
       "       [-0.2545942 , -1.49268218],\n",
       "       [-1.16630244, -0.37326417],\n",
       "       [-1.71651503, -0.19807452],\n",
       "       [-2.34463803, -0.10079529],\n",
       "       [-2.88182781, -0.05766328],\n",
       "       [-0.17195246, -1.84528178]])"
      ]
     },
     "execution_count": 202,
     "metadata": {},
     "output_type": "execute_result"
    }
   ],
   "source": [
    "classifier1.predict_log_proba(X)"
   ]
  },
  {
   "cell_type": "code",
   "execution_count": 204,
   "id": "5057815e",
   "metadata": {},
   "outputs": [
    {
     "data": {
      "image/png": "[encoded data removed]",
      "text/plain": [
       "<Figure size 432x288 with 1 Axes>"
      ]
     },
     "metadata": {
      "needs_background": "light"
     },
     "output_type": "display_data"
    }
   ],
   "source": [
    "sns.scatterplot(data=data,x='age',y='bought_insurance',color='red');\n",
    "sns.lineplot(x=data['age'].values,y=classifier1.predict_proba(X)[:,1]);"
   ]
  },
  {
   "cell_type": "code",
   "execution_count": 205,
   "id": "cef9d53a",
   "metadata": {},
   "outputs": [
    {
     "data": {
      "text/plain": [
       "array([0, 1], dtype=int64)"
      ]
     },
     "execution_count": 205,
     "metadata": {},
     "output_type": "execute_result"
    }
   ],
   "source": [
    "classifier1.classes_"
   ]
  },
  {
   "cell_type": "code",
   "execution_count": 270,
   "id": "895e51de",
   "metadata": {},
   "outputs": [
    {
     "data": {
      "text/plain": [
       "array([[0.19649431]])"
      ]
     },
     "execution_count": 270,
     "metadata": {},
     "output_type": "execute_result"
    }
   ],
   "source": [
    "classifier1.coef_"
   ]
  },
  {
   "cell_type": "code",
   "execution_count": 271,
   "id": "e1ea9f67",
   "metadata": {},
   "outputs": [
    {
     "data": {
      "text/plain": [
       "array([-6.91780295])"
      ]
     },
     "execution_count": 271,
     "metadata": {},
     "output_type": "execute_result"
    }
   ],
   "source": [
    "classifier1.intercept_"
   ]
  },
  {
   "cell_type": "code",
   "execution_count": 207,
   "id": "a7dee0a1",
   "metadata": {},
   "outputs": [
    {
     "data": {
      "text/plain": [
       "1"
      ]
     },
     "execution_count": 207,
     "metadata": {},
     "output_type": "execute_result"
    }
   ],
   "source": [
    "classifier1.n_features_in_"
   ]
  },
  {
   "cell_type": "code",
   "execution_count": 208,
   "id": "77d83883",
   "metadata": {},
   "outputs": [
    {
     "data": {
      "text/plain": [
       "array(['age'], dtype=object)"
      ]
     },
     "execution_count": 208,
     "metadata": {},
     "output_type": "execute_result"
    }
   ],
   "source": [
    "classifier1.feature_names_in_"
   ]
  },
  {
   "cell_type": "code",
   "execution_count": 252,
   "id": "ad9b0872",
   "metadata": {},
   "outputs": [
    {
     "data": {
      "text/plain": [
       "array([31], dtype=int32)"
      ]
     },
     "execution_count": 252,
     "metadata": {},
     "output_type": "execute_result"
    }
   ],
   "source": [
    "classifier1.n_iter_"
   ]
  },
  {
   "cell_type": "code",
   "execution_count": null,
   "id": "9eda1ca2",
   "metadata": {},
   "outputs": [],
   "source": []
  },
  {
   "cell_type": "markdown",
   "id": "6594cc05",
   "metadata": {},
   "source": [
    "# Methods"
   ]
  },
  {
   "cell_type": "code",
   "execution_count": 273,
   "id": "6fcd1d79",
   "metadata": {},
   "outputs": [
    {
     "data": {
      "text/html": [
       "<div>\n",
       "<style scoped>\n",
       "    .dataframe tbody tr th:only-of-type {\n",
       "        vertical-align: middle;\n",
       "    }\n",
       "\n",
       "    .dataframe tbody tr th {\n",
       "        vertical-align: top;\n",
       "    }\n",
       "\n",
       "    .dataframe thead th {\n",
       "        text-align: right;\n",
       "    }\n",
       "</style>\n",
       "<table border=\"1\" class=\"dataframe\">\n",
       "  <thead>\n",
       "    <tr style=\"text-align: right;\">\n",
       "      <th></th>\n",
       "      <th>age</th>\n",
       "    </tr>\n",
       "  </thead>\n",
       "  <tbody>\n",
       "    <tr>\n",
       "      <th>0</th>\n",
       "      <td>22</td>\n",
       "    </tr>\n",
       "    <tr>\n",
       "      <th>1</th>\n",
       "      <td>25</td>\n",
       "    </tr>\n",
       "    <tr>\n",
       "      <th>2</th>\n",
       "      <td>46</td>\n",
       "    </tr>\n",
       "    <tr>\n",
       "      <th>3</th>\n",
       "      <td>56</td>\n",
       "    </tr>\n",
       "    <tr>\n",
       "      <th>4</th>\n",
       "      <td>55</td>\n",
       "    </tr>\n",
       "    <tr>\n",
       "      <th>5</th>\n",
       "      <td>60</td>\n",
       "    </tr>\n",
       "    <tr>\n",
       "      <th>6</th>\n",
       "      <td>62</td>\n",
       "    </tr>\n",
       "    <tr>\n",
       "      <th>7</th>\n",
       "      <td>61</td>\n",
       "    </tr>\n",
       "    <tr>\n",
       "      <th>8</th>\n",
       "      <td>18</td>\n",
       "    </tr>\n",
       "    <tr>\n",
       "      <th>9</th>\n",
       "      <td>28</td>\n",
       "    </tr>\n",
       "    <tr>\n",
       "      <th>10</th>\n",
       "      <td>27</td>\n",
       "    </tr>\n",
       "    <tr>\n",
       "      <th>11</th>\n",
       "      <td>29</td>\n",
       "    </tr>\n",
       "    <tr>\n",
       "      <th>12</th>\n",
       "      <td>49</td>\n",
       "    </tr>\n",
       "    <tr>\n",
       "      <th>13</th>\n",
       "      <td>55</td>\n",
       "    </tr>\n",
       "    <tr>\n",
       "      <th>14</th>\n",
       "      <td>25</td>\n",
       "    </tr>\n",
       "    <tr>\n",
       "      <th>15</th>\n",
       "      <td>58</td>\n",
       "    </tr>\n",
       "    <tr>\n",
       "      <th>16</th>\n",
       "      <td>19</td>\n",
       "    </tr>\n",
       "    <tr>\n",
       "      <th>17</th>\n",
       "      <td>18</td>\n",
       "    </tr>\n",
       "    <tr>\n",
       "      <th>18</th>\n",
       "      <td>21</td>\n",
       "    </tr>\n",
       "    <tr>\n",
       "      <th>19</th>\n",
       "      <td>26</td>\n",
       "    </tr>\n",
       "    <tr>\n",
       "      <th>20</th>\n",
       "      <td>40</td>\n",
       "    </tr>\n",
       "    <tr>\n",
       "      <th>21</th>\n",
       "      <td>45</td>\n",
       "    </tr>\n",
       "    <tr>\n",
       "      <th>22</th>\n",
       "      <td>50</td>\n",
       "    </tr>\n",
       "    <tr>\n",
       "      <th>23</th>\n",
       "      <td>54</td>\n",
       "    </tr>\n",
       "    <tr>\n",
       "      <th>24</th>\n",
       "      <td>23</td>\n",
       "    </tr>\n",
       "  </tbody>\n",
       "</table>\n",
       "</div>"
      ],
      "text/plain": [
       "    age\n",
       "0    22\n",
       "1    25\n",
       "2    46\n",
       "3    56\n",
       "4    55\n",
       "5    60\n",
       "6    62\n",
       "7    61\n",
       "8    18\n",
       "9    28\n",
       "10   27\n",
       "11   29\n",
       "12   49\n",
       "13   55\n",
       "14   25\n",
       "15   58\n",
       "16   19\n",
       "17   18\n",
       "18   21\n",
       "19   26\n",
       "20   40\n",
       "21   45\n",
       "22   50\n",
       "23   54\n",
       "24   23"
      ]
     },
     "execution_count": 273,
     "metadata": {},
     "output_type": "execute_result"
    }
   ],
   "source": [
    "X"
   ]
  },
  {
   "cell_type": "code",
   "execution_count": 272,
   "id": "1760bc6a",
   "metadata": {},
   "outputs": [
    {
     "name": "stdout",
     "output_type": "stream",
     "text": [
      "[[0.19649431]] [-6.91780295]\n"
     ]
    }
   ],
   "source": [
    "print(classifier1.coef_,classifier1.intercept_)"
   ]
  },
  {
   "cell_type": "code",
   "execution_count": 276,
   "id": "573e2858",
   "metadata": {},
   "outputs": [
    {
     "data": {
      "text/plain": [
       "-2.5949281299999996"
      ]
     },
     "execution_count": 276,
     "metadata": {},
     "output_type": "execute_result"
    }
   ],
   "source": [
    "# mx+c\n",
    "0.19649431*22+(-6.91780295)"
   ]
  },
  {
   "cell_type": "code",
   "execution_count": 274,
   "id": "3c64746f",
   "metadata": {},
   "outputs": [
    {
     "data": {
      "text/plain": [
       "array([-2.59492811, -2.00544518,  2.12093534,  4.08587845,  3.88938414,\n",
       "        4.87185569,  5.26484431,  5.06835   , -3.38090536, -1.41596225,\n",
       "       -1.61245656, -1.21946794,  2.71041827,  3.88938414, -2.00544518,\n",
       "        4.47886707, -3.18441105, -3.38090536, -2.79142242, -1.80895087,\n",
       "        0.94196948,  1.92444103,  2.90691258,  3.69288983, -2.3984338 ])"
      ]
     },
     "execution_count": 274,
     "metadata": {},
     "output_type": "execute_result"
    }
   ],
   "source": [
    "classifier1.decision_function(X)"
   ]
  },
  {
   "cell_type": "code",
   "execution_count": 277,
   "id": "4c0e4c63",
   "metadata": {},
   "outputs": [
    {
     "data": {
      "text/plain": [
       "array([0.06946555, 0.1186324 , 0.89292139, 0.98346948, 0.9799522 ,\n",
       "       0.99239908, 0.9948564 , 0.99374656, 0.03289758, 0.19529536,\n",
       "       0.16624783, 0.2280301 , 0.93763861, 0.9799522 , 0.1186324 ,\n",
       "       0.98878103, 0.0397566 , 0.03289758, 0.05778946, 0.14076497,\n",
       "       0.71949731, 0.87263285, 0.94818709, 0.975705  , 0.0832922 ])"
      ]
     },
     "execution_count": 277,
     "metadata": {},
     "output_type": "execute_result"
    }
   ],
   "source": [
    "classifier1.predict_proba(X)[:,1] #p"
   ]
  },
  {
   "cell_type": "code",
   "execution_count": 312,
   "id": "60b36b93",
   "metadata": {},
   "outputs": [
    {
     "data": {
      "text/plain": [
       "array([[0.14509722]])"
      ]
     },
     "execution_count": 312,
     "metadata": {},
     "output_type": "execute_result"
    }
   ],
   "source": [
    "classifier1.coef_"
   ]
  },
  {
   "cell_type": "code",
   "execution_count": 317,
   "id": "fc0c1883",
   "metadata": {},
   "outputs": [
    {
     "data": {
      "text/plain": [
       "LogisticRegression(max_iter=1000, penalty='l1', solver='liblinear', tol=1e-05)"
      ]
     },
     "execution_count": 317,
     "metadata": {},
     "output_type": "execute_result"
    }
   ],
   "source": [
    "classifier1.densify()"
   ]
  },
  {
   "cell_type": "code",
   "execution_count": 318,
   "id": "9aa554e0",
   "metadata": {},
   "outputs": [
    {
     "data": {
      "text/plain": [
       "array([[0.14509722]])"
      ]
     },
     "execution_count": 318,
     "metadata": {},
     "output_type": "execute_result"
    }
   ],
   "source": [
    "classifier1.coef_"
   ]
  },
  {
   "cell_type": "code",
   "execution_count": 320,
   "id": "c4337a62",
   "metadata": {},
   "outputs": [
    {
     "data": {
      "text/plain": [
       "0.14509722034322012"
      ]
     },
     "execution_count": 320,
     "metadata": {},
     "output_type": "execute_result"
    }
   ],
   "source": [
    "classifier1.coef_[0,0]"
   ]
  },
  {
   "cell_type": "code",
   "execution_count": 315,
   "id": "ecd05255",
   "metadata": {},
   "outputs": [
    {
     "data": {
      "text/plain": [
       "LogisticRegression(max_iter=1000, penalty='l1', solver='liblinear', tol=1e-05)"
      ]
     },
     "execution_count": 315,
     "metadata": {},
     "output_type": "execute_result"
    }
   ],
   "source": [
    "classifier1.sparsify()"
   ]
  },
  {
   "cell_type": "code",
   "execution_count": 316,
   "id": "6cae4d1e",
   "metadata": {},
   "outputs": [
    {
     "data": {
      "text/plain": [
       "<1x1 sparse matrix of type '<class 'numpy.float64'>'\n",
       "\twith 1 stored elements in Compressed Sparse Row format>"
      ]
     },
     "execution_count": 316,
     "metadata": {},
     "output_type": "execute_result"
    }
   ],
   "source": [
    "classifier1.coef_"
   ]
  },
  {
   "cell_type": "code",
   "execution_count": 289,
   "id": "1379f4aa",
   "metadata": {},
   "outputs": [
    {
     "name": "stdout",
     "output_type": "stream",
     "text": [
      "  (0, 0)\t0.19649431059087855\n"
     ]
    }
   ],
   "source": [
    "print(classifier1.coef_)"
   ]
  },
  {
   "cell_type": "code",
   "execution_count": 149,
   "id": "d78f957e",
   "metadata": {},
   "outputs": [
    {
     "data": {
      "text/plain": [
       "{'C': 1.0,\n",
       " 'class_weight': None,\n",
       " 'dual': False,\n",
       " 'fit_intercept': True,\n",
       " 'intercept_scaling': 1,\n",
       " 'l1_ratio': None,\n",
       " 'max_iter': 100,\n",
       " 'multi_class': 'auto',\n",
       " 'n_jobs': None,\n",
       " 'penalty': 'l1',\n",
       " 'random_state': None,\n",
       " 'solver': 'liblinear',\n",
       " 'tol': 0.0001,\n",
       " 'verbose': 0,\n",
       " 'warm_start': False}"
      ]
     },
     "execution_count": 149,
     "metadata": {},
     "output_type": "execute_result"
    }
   ],
   "source": [
    "classifier1.get_params()"
   ]
  },
  {
   "cell_type": "code",
   "execution_count": 151,
   "id": "a8a22bb4",
   "metadata": {},
   "outputs": [
    {
     "data": {
      "text/plain": [
       "LogisticRegression(max_iter=1000, penalty='l1', solver='liblinear')"
      ]
     },
     "execution_count": 151,
     "metadata": {},
     "output_type": "execute_result"
    }
   ],
   "source": [
    "classifier1.set_params(**{'max_iter':1000})"
   ]
  },
  {
   "cell_type": "code",
   "execution_count": 153,
   "id": "b996ef9d",
   "metadata": {},
   "outputs": [
    {
     "name": "stdout",
     "output_type": "stream",
     "text": [
      "  (0, 0)\t0.14500442380215453\n"
     ]
    }
   ],
   "source": [
    "print(classifier1.coef_)"
   ]
  },
  {
   "cell_type": "code",
   "execution_count": 154,
   "id": "e5700675",
   "metadata": {},
   "outputs": [
    {
     "name": "stdout",
     "output_type": "stream",
     "text": [
      "1.0\n"
     ]
    }
   ],
   "source": [
    "print(classifier1.score(X,Y))"
   ]
  },
  {
   "cell_type": "code",
   "execution_count": null,
   "id": "9283a41b",
   "metadata": {},
   "outputs": [],
   "source": []
  },
  {
   "cell_type": "code",
   "execution_count": null,
   "id": "6cf7f592",
   "metadata": {},
   "outputs": [],
   "source": []
  },
  {
   "cell_type": "code",
   "execution_count": 307,
   "id": "b4d46dd4",
   "metadata": {},
   "outputs": [],
   "source": [
    "#There is no strict definition regarding the proportion of zero-value elements for a matrix to qualify as sparse \n",
    "#but a common criterion is that the number of non-zero elements is roughly equal to the number of rows or columns. \n",
    "#By contrast, if most of the elements are non-zero, the matrix is considered dense"
   ]
  },
  {
   "cell_type": "code",
   "execution_count": 321,
   "id": "7b9e9b1c",
   "metadata": {},
   "outputs": [
    {
     "data": {
      "text/plain": [
       "array([[1, 2, 0],\n",
       "       [0, 0, 5],\n",
       "       [3, 9, 0]])"
      ]
     },
     "execution_count": 321,
     "metadata": {},
     "output_type": "execute_result"
    }
   ],
   "source": [
    "a=np.array([[1,2,0],[0,0,5],[3,9,0]])\n",
    "a"
   ]
  },
  {
   "cell_type": "code",
   "execution_count": 325,
   "id": "1d7729bf",
   "metadata": {},
   "outputs": [
    {
     "data": {
      "text/plain": [
       "0.5555555555555556"
      ]
     },
     "execution_count": 325,
     "metadata": {},
     "output_type": "execute_result"
    }
   ],
   "source": [
    "5/9"
   ]
  },
  {
   "cell_type": "code",
   "execution_count": 324,
   "id": "0f59af7c",
   "metadata": {},
   "outputs": [
    {
     "name": "stdout",
     "output_type": "stream",
     "text": [
      "sparsity = 44.44 %\n"
     ]
    }
   ],
   "source": [
    "print('sparsity =',np.round((4/9)*100,2),'%')"
   ]
  },
  {
   "cell_type": "code",
   "execution_count": 326,
   "id": "edf13cad",
   "metadata": {},
   "outputs": [
    {
     "name": "stdout",
     "output_type": "stream",
     "text": [
      "density = 55.56 %\n"
     ]
    }
   ],
   "source": [
    "print('density =',np.round((5/9)*100,2),'%')"
   ]
  },
  {
   "cell_type": "code",
   "execution_count": 295,
   "id": "e17549bb",
   "metadata": {},
   "outputs": [],
   "source": [
    "from scipy.sparse import csr_matrix"
   ]
  },
  {
   "cell_type": "code",
   "execution_count": 327,
   "id": "29f81134",
   "metadata": {},
   "outputs": [
    {
     "data": {
      "text/plain": [
       "<3x3 sparse matrix of type '<class 'numpy.intc'>'\n",
       "\twith 5 stored elements in Compressed Sparse Row format>"
      ]
     },
     "execution_count": 327,
     "metadata": {},
     "output_type": "execute_result"
    }
   ],
   "source": [
    "csr_matrix(a)"
   ]
  },
  {
   "cell_type": "code",
   "execution_count": 297,
   "id": "da2f675a",
   "metadata": {},
   "outputs": [
    {
     "name": "stdout",
     "output_type": "stream",
     "text": [
      "  (0, 0)\t1\n",
      "  (0, 1)\t2\n",
      "  (1, 2)\t5\n",
      "  (2, 0)\t3\n",
      "  (2, 1)\t9\n"
     ]
    }
   ],
   "source": [
    "print(csr_matrix(a))"
   ]
  }
 ],
 "metadata": {
  "colab": {
   "collapsed_sections": [
    "rotary-reputation",
    "medieval-aircraft"
   ],
   "name": "GD_logisticRegression_21Jan_to deliver on saturday.ipynb",
   "provenance": []
  },
  "kernelspec": {
   "display_name": "Python 3 (ipykernel)",
   "language": "python",
   "name": "python3"
  },
  "language_info": {
   "codemirror_mode": {
    "name": "ipython",
    "version": 3
   },
   "file_extension": ".py",
   "mimetype": "text/x-python",
   "name": "python",
   "nbconvert_exporter": "python",
   "pygments_lexer": "ipython3",
   "version": "3.9.12"
  }
 },
 "nbformat": 4,
 "nbformat_minor": 5
}
