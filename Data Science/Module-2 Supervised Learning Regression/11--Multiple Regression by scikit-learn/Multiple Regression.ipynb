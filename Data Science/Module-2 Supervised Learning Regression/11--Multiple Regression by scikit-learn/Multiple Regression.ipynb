{
 "cells": [
  {
   "cell_type": "code",
   "execution_count": 3,
   "id": "8e6cba17",
   "metadata": {},
   "outputs": [],
   "source": [
    "import pandas as pd\n",
    "import numpy as np\n",
    "import seaborn as sns\n",
    "from sklearn.linear_model import LinearRegression"
   ]
  },
  {
   "cell_type": "code",
   "execution_count": 4,
   "id": "73f11af4",
   "metadata": {},
   "outputs": [],
   "source": [
    "from sklearn.model_selection import train_test_split"
   ]
  },
  {
   "cell_type": "code",
   "execution_count": 5,
   "id": "8c3a72ac",
   "metadata": {},
   "outputs": [],
   "source": [
    "import warnings\n",
    "warnings.filterwarnings(\"ignore\")"
   ]
  },
  {
   "cell_type": "code",
   "execution_count": 6,
   "id": "23411249",
   "metadata": {},
   "outputs": [
    {
     "data": {
      "text/html": [
       "<div>\n",
       "<style scoped>\n",
       "    .dataframe tbody tr th:only-of-type {\n",
       "        vertical-align: middle;\n",
       "    }\n",
       "\n",
       "    .dataframe tbody tr th {\n",
       "        vertical-align: top;\n",
       "    }\n",
       "\n",
       "    .dataframe thead th {\n",
       "        text-align: right;\n",
       "    }\n",
       "</style>\n",
       "<table border=\"1\" class=\"dataframe\">\n",
       "  <thead>\n",
       "    <tr style=\"text-align: right;\">\n",
       "      <th></th>\n",
       "      <th>mpg</th>\n",
       "      <th>cylinders</th>\n",
       "      <th>displacement</th>\n",
       "      <th>horsepower</th>\n",
       "      <th>weight</th>\n",
       "      <th>acceleration</th>\n",
       "      <th>model year</th>\n",
       "      <th>origin</th>\n",
       "      <th>car name</th>\n",
       "    </tr>\n",
       "  </thead>\n",
       "  <tbody>\n",
       "    <tr>\n",
       "      <th>0</th>\n",
       "      <td>18.0</td>\n",
       "      <td>8</td>\n",
       "      <td>307.0</td>\n",
       "      <td>130</td>\n",
       "      <td>3504</td>\n",
       "      <td>12.0</td>\n",
       "      <td>70</td>\n",
       "      <td>1</td>\n",
       "      <td>chevrolet chevelle malibu</td>\n",
       "    </tr>\n",
       "    <tr>\n",
       "      <th>1</th>\n",
       "      <td>15.0</td>\n",
       "      <td>8</td>\n",
       "      <td>350.0</td>\n",
       "      <td>165</td>\n",
       "      <td>3693</td>\n",
       "      <td>11.5</td>\n",
       "      <td>70</td>\n",
       "      <td>1</td>\n",
       "      <td>buick skylark 320</td>\n",
       "    </tr>\n",
       "    <tr>\n",
       "      <th>2</th>\n",
       "      <td>18.0</td>\n",
       "      <td>8</td>\n",
       "      <td>318.0</td>\n",
       "      <td>150</td>\n",
       "      <td>3436</td>\n",
       "      <td>11.0</td>\n",
       "      <td>70</td>\n",
       "      <td>1</td>\n",
       "      <td>plymouth satellite</td>\n",
       "    </tr>\n",
       "    <tr>\n",
       "      <th>3</th>\n",
       "      <td>16.0</td>\n",
       "      <td>8</td>\n",
       "      <td>304.0</td>\n",
       "      <td>150</td>\n",
       "      <td>3433</td>\n",
       "      <td>12.0</td>\n",
       "      <td>70</td>\n",
       "      <td>1</td>\n",
       "      <td>amc rebel sst</td>\n",
       "    </tr>\n",
       "    <tr>\n",
       "      <th>4</th>\n",
       "      <td>17.0</td>\n",
       "      <td>8</td>\n",
       "      <td>302.0</td>\n",
       "      <td>140</td>\n",
       "      <td>3449</td>\n",
       "      <td>10.5</td>\n",
       "      <td>70</td>\n",
       "      <td>1</td>\n",
       "      <td>ford torino</td>\n",
       "    </tr>\n",
       "  </tbody>\n",
       "</table>\n",
       "</div>"
      ],
      "text/plain": [
       "    mpg  cylinders  displacement horsepower  weight  acceleration  model year  \\\n",
       "0  18.0          8         307.0        130    3504          12.0          70   \n",
       "1  15.0          8         350.0        165    3693          11.5          70   \n",
       "2  18.0          8         318.0        150    3436          11.0          70   \n",
       "3  16.0          8         304.0        150    3433          12.0          70   \n",
       "4  17.0          8         302.0        140    3449          10.5          70   \n",
       "\n",
       "   origin                   car name  \n",
       "0       1  chevrolet chevelle malibu  \n",
       "1       1          buick skylark 320  \n",
       "2       1         plymouth satellite  \n",
       "3       1              amc rebel sst  \n",
       "4       1                ford torino  "
      ]
     },
     "execution_count": 6,
     "metadata": {},
     "output_type": "execute_result"
    }
   ],
   "source": [
    "df1=pd.read_csv('auto-mpg.csv')\n",
    "df1.head()"
   ]
  },
  {
   "cell_type": "markdown",
   "id": "83dd2678",
   "metadata": {},
   "source": [
    "### A lot of Independent variables here, for now just consider the following 2 IVs"
   ]
  },
  {
   "cell_type": "code",
   "execution_count": 7,
   "id": "21289639",
   "metadata": {},
   "outputs": [
    {
     "data": {
      "text/html": [
       "<div>\n",
       "<style scoped>\n",
       "    .dataframe tbody tr th:only-of-type {\n",
       "        vertical-align: middle;\n",
       "    }\n",
       "\n",
       "    .dataframe tbody tr th {\n",
       "        vertical-align: top;\n",
       "    }\n",
       "\n",
       "    .dataframe thead th {\n",
       "        text-align: right;\n",
       "    }\n",
       "</style>\n",
       "<table border=\"1\" class=\"dataframe\">\n",
       "  <thead>\n",
       "    <tr style=\"text-align: right;\">\n",
       "      <th></th>\n",
       "      <th>horsepower</th>\n",
       "      <th>weight</th>\n",
       "      <th>mpg</th>\n",
       "    </tr>\n",
       "  </thead>\n",
       "  <tbody>\n",
       "    <tr>\n",
       "      <th>0</th>\n",
       "      <td>130</td>\n",
       "      <td>3504</td>\n",
       "      <td>18.0</td>\n",
       "    </tr>\n",
       "    <tr>\n",
       "      <th>1</th>\n",
       "      <td>165</td>\n",
       "      <td>3693</td>\n",
       "      <td>15.0</td>\n",
       "    </tr>\n",
       "    <tr>\n",
       "      <th>2</th>\n",
       "      <td>150</td>\n",
       "      <td>3436</td>\n",
       "      <td>18.0</td>\n",
       "    </tr>\n",
       "    <tr>\n",
       "      <th>3</th>\n",
       "      <td>150</td>\n",
       "      <td>3433</td>\n",
       "      <td>16.0</td>\n",
       "    </tr>\n",
       "    <tr>\n",
       "      <th>4</th>\n",
       "      <td>140</td>\n",
       "      <td>3449</td>\n",
       "      <td>17.0</td>\n",
       "    </tr>\n",
       "  </tbody>\n",
       "</table>\n",
       "</div>"
      ],
      "text/plain": [
       "  horsepower  weight   mpg\n",
       "0        130    3504  18.0\n",
       "1        165    3693  15.0\n",
       "2        150    3436  18.0\n",
       "3        150    3433  16.0\n",
       "4        140    3449  17.0"
      ]
     },
     "execution_count": 7,
     "metadata": {},
     "output_type": "execute_result"
    }
   ],
   "source": [
    "df2=df1[['horsepower','weight','mpg']]\n",
    "df2.head()"
   ]
  },
  {
   "cell_type": "code",
   "execution_count": 8,
   "id": "8c716e5b",
   "metadata": {},
   "outputs": [
    {
     "data": {
      "text/html": [
       "<div>\n",
       "<style scoped>\n",
       "    .dataframe tbody tr th:only-of-type {\n",
       "        vertical-align: middle;\n",
       "    }\n",
       "\n",
       "    .dataframe tbody tr th {\n",
       "        vertical-align: top;\n",
       "    }\n",
       "\n",
       "    .dataframe thead th {\n",
       "        text-align: right;\n",
       "    }\n",
       "</style>\n",
       "<table border=\"1\" class=\"dataframe\">\n",
       "  <thead>\n",
       "    <tr style=\"text-align: right;\">\n",
       "      <th></th>\n",
       "      <th>horsepower</th>\n",
       "      <th>weight</th>\n",
       "      <th>mpg</th>\n",
       "    </tr>\n",
       "  </thead>\n",
       "  <tbody>\n",
       "    <tr>\n",
       "      <th>0</th>\n",
       "      <td>130</td>\n",
       "      <td>3504</td>\n",
       "      <td>18.0</td>\n",
       "    </tr>\n",
       "    <tr>\n",
       "      <th>1</th>\n",
       "      <td>165</td>\n",
       "      <td>3693</td>\n",
       "      <td>15.0</td>\n",
       "    </tr>\n",
       "    <tr>\n",
       "      <th>2</th>\n",
       "      <td>150</td>\n",
       "      <td>3436</td>\n",
       "      <td>18.0</td>\n",
       "    </tr>\n",
       "    <tr>\n",
       "      <th>3</th>\n",
       "      <td>150</td>\n",
       "      <td>3433</td>\n",
       "      <td>16.0</td>\n",
       "    </tr>\n",
       "    <tr>\n",
       "      <th>4</th>\n",
       "      <td>140</td>\n",
       "      <td>3449</td>\n",
       "      <td>17.0</td>\n",
       "    </tr>\n",
       "    <tr>\n",
       "      <th>...</th>\n",
       "      <td>...</td>\n",
       "      <td>...</td>\n",
       "      <td>...</td>\n",
       "    </tr>\n",
       "    <tr>\n",
       "      <th>393</th>\n",
       "      <td>86</td>\n",
       "      <td>2790</td>\n",
       "      <td>27.0</td>\n",
       "    </tr>\n",
       "    <tr>\n",
       "      <th>394</th>\n",
       "      <td>52</td>\n",
       "      <td>2130</td>\n",
       "      <td>44.0</td>\n",
       "    </tr>\n",
       "    <tr>\n",
       "      <th>395</th>\n",
       "      <td>84</td>\n",
       "      <td>2295</td>\n",
       "      <td>32.0</td>\n",
       "    </tr>\n",
       "    <tr>\n",
       "      <th>396</th>\n",
       "      <td>79</td>\n",
       "      <td>2625</td>\n",
       "      <td>28.0</td>\n",
       "    </tr>\n",
       "    <tr>\n",
       "      <th>397</th>\n",
       "      <td>82</td>\n",
       "      <td>2720</td>\n",
       "      <td>31.0</td>\n",
       "    </tr>\n",
       "  </tbody>\n",
       "</table>\n",
       "<p>398 rows × 3 columns</p>\n",
       "</div>"
      ],
      "text/plain": [
       "    horsepower  weight   mpg\n",
       "0          130    3504  18.0\n",
       "1          165    3693  15.0\n",
       "2          150    3436  18.0\n",
       "3          150    3433  16.0\n",
       "4          140    3449  17.0\n",
       "..         ...     ...   ...\n",
       "393         86    2790  27.0\n",
       "394         52    2130  44.0\n",
       "395         84    2295  32.0\n",
       "396         79    2625  28.0\n",
       "397         82    2720  31.0\n",
       "\n",
       "[398 rows x 3 columns]"
      ]
     },
     "execution_count": 8,
     "metadata": {},
     "output_type": "execute_result"
    }
   ],
   "source": [
    "df2"
   ]
  },
  {
   "cell_type": "markdown",
   "id": "d379481a",
   "metadata": {},
   "source": [
    "### To check the types"
   ]
  },
  {
   "cell_type": "code",
   "execution_count": 9,
   "id": "d5e60de9",
   "metadata": {},
   "outputs": [
    {
     "name": "stdout",
     "output_type": "stream",
     "text": [
      "<class 'pandas.core.frame.DataFrame'>\n",
      "RangeIndex: 398 entries, 0 to 397\n",
      "Data columns (total 3 columns):\n",
      " #   Column      Non-Null Count  Dtype  \n",
      "---  ------      --------------  -----  \n",
      " 0   horsepower  398 non-null    object \n",
      " 1   weight      398 non-null    int64  \n",
      " 2   mpg         398 non-null    float64\n",
      "dtypes: float64(1), int64(1), object(1)\n",
      "memory usage: 9.5+ KB\n"
     ]
    }
   ],
   "source": [
    "df2.info()"
   ]
  },
  {
   "cell_type": "markdown",
   "id": "c17a0f39",
   "metadata": {},
   "source": [
    "### As horsepower is object type, so to see what type of values it has"
   ]
  },
  {
   "cell_type": "code",
   "execution_count": 10,
   "id": "8c1e952c",
   "metadata": {},
   "outputs": [
    {
     "data": {
      "text/plain": [
       "array(['130', '165', '150', '140', '198', '220', '215', '225', '190',\n",
       "       '170', '160', '95', '97', '85', '88', '46', '87', '90', '113',\n",
       "       '200', '210', '193', '?', '100', '105', '175', '153', '180', '110',\n",
       "       '72', '86', '70', '76', '65', '69', '60', '80', '54', '208', '155',\n",
       "       '112', '92', '145', '137', '158', '167', '94', '107', '230', '49',\n",
       "       '75', '91', '122', '67', '83', '78', '52', '61', '93', '148',\n",
       "       '129', '96', '71', '98', '115', '53', '81', '79', '120', '152',\n",
       "       '102', '108', '68', '58', '149', '89', '63', '48', '66', '139',\n",
       "       '103', '125', '133', '138', '135', '142', '77', '62', '132', '84',\n",
       "       '64', '74', '116', '82'], dtype=object)"
      ]
     },
     "execution_count": 10,
     "metadata": {},
     "output_type": "execute_result"
    }
   ],
   "source": [
    "df2['horsepower'].unique()"
   ]
  },
  {
   "cell_type": "markdown",
   "id": "8f83f720",
   "metadata": {},
   "source": [
    "### Dataset with '?'"
   ]
  },
  {
   "cell_type": "code",
   "execution_count": 11,
   "id": "e0f17554",
   "metadata": {},
   "outputs": [
    {
     "data": {
      "text/html": [
       "<div>\n",
       "<style scoped>\n",
       "    .dataframe tbody tr th:only-of-type {\n",
       "        vertical-align: middle;\n",
       "    }\n",
       "\n",
       "    .dataframe tbody tr th {\n",
       "        vertical-align: top;\n",
       "    }\n",
       "\n",
       "    .dataframe thead th {\n",
       "        text-align: right;\n",
       "    }\n",
       "</style>\n",
       "<table border=\"1\" class=\"dataframe\">\n",
       "  <thead>\n",
       "    <tr style=\"text-align: right;\">\n",
       "      <th></th>\n",
       "      <th>horsepower</th>\n",
       "      <th>weight</th>\n",
       "      <th>mpg</th>\n",
       "    </tr>\n",
       "  </thead>\n",
       "  <tbody>\n",
       "    <tr>\n",
       "      <th>32</th>\n",
       "      <td>?</td>\n",
       "      <td>2046</td>\n",
       "      <td>25.0</td>\n",
       "    </tr>\n",
       "    <tr>\n",
       "      <th>126</th>\n",
       "      <td>?</td>\n",
       "      <td>2875</td>\n",
       "      <td>21.0</td>\n",
       "    </tr>\n",
       "    <tr>\n",
       "      <th>330</th>\n",
       "      <td>?</td>\n",
       "      <td>1835</td>\n",
       "      <td>40.9</td>\n",
       "    </tr>\n",
       "    <tr>\n",
       "      <th>336</th>\n",
       "      <td>?</td>\n",
       "      <td>2905</td>\n",
       "      <td>23.6</td>\n",
       "    </tr>\n",
       "    <tr>\n",
       "      <th>354</th>\n",
       "      <td>?</td>\n",
       "      <td>2320</td>\n",
       "      <td>34.5</td>\n",
       "    </tr>\n",
       "    <tr>\n",
       "      <th>374</th>\n",
       "      <td>?</td>\n",
       "      <td>3035</td>\n",
       "      <td>23.0</td>\n",
       "    </tr>\n",
       "  </tbody>\n",
       "</table>\n",
       "</div>"
      ],
      "text/plain": [
       "    horsepower  weight   mpg\n",
       "32           ?    2046  25.0\n",
       "126          ?    2875  21.0\n",
       "330          ?    1835  40.9\n",
       "336          ?    2905  23.6\n",
       "354          ?    2320  34.5\n",
       "374          ?    3035  23.0"
      ]
     },
     "execution_count": 11,
     "metadata": {},
     "output_type": "execute_result"
    }
   ],
   "source": [
    "df2[df2['horsepower'] == '?']"
   ]
  },
  {
   "cell_type": "markdown",
   "id": "7f348d63",
   "metadata": {},
   "source": [
    "### As '?' is noise in the data. For simplicity i will use the dataset without the rows having '?'"
   ]
  },
  {
   "cell_type": "code",
   "execution_count": 12,
   "id": "c1e5df25",
   "metadata": {},
   "outputs": [
    {
     "data": {
      "text/html": [
       "<div>\n",
       "<style scoped>\n",
       "    .dataframe tbody tr th:only-of-type {\n",
       "        vertical-align: middle;\n",
       "    }\n",
       "\n",
       "    .dataframe tbody tr th {\n",
       "        vertical-align: top;\n",
       "    }\n",
       "\n",
       "    .dataframe thead th {\n",
       "        text-align: right;\n",
       "    }\n",
       "</style>\n",
       "<table border=\"1\" class=\"dataframe\">\n",
       "  <thead>\n",
       "    <tr style=\"text-align: right;\">\n",
       "      <th></th>\n",
       "      <th>horsepower</th>\n",
       "      <th>weight</th>\n",
       "      <th>mpg</th>\n",
       "    </tr>\n",
       "  </thead>\n",
       "  <tbody>\n",
       "    <tr>\n",
       "      <th>0</th>\n",
       "      <td>130</td>\n",
       "      <td>3504</td>\n",
       "      <td>18.0</td>\n",
       "    </tr>\n",
       "    <tr>\n",
       "      <th>1</th>\n",
       "      <td>165</td>\n",
       "      <td>3693</td>\n",
       "      <td>15.0</td>\n",
       "    </tr>\n",
       "    <tr>\n",
       "      <th>2</th>\n",
       "      <td>150</td>\n",
       "      <td>3436</td>\n",
       "      <td>18.0</td>\n",
       "    </tr>\n",
       "    <tr>\n",
       "      <th>3</th>\n",
       "      <td>150</td>\n",
       "      <td>3433</td>\n",
       "      <td>16.0</td>\n",
       "    </tr>\n",
       "    <tr>\n",
       "      <th>4</th>\n",
       "      <td>140</td>\n",
       "      <td>3449</td>\n",
       "      <td>17.0</td>\n",
       "    </tr>\n",
       "    <tr>\n",
       "      <th>...</th>\n",
       "      <td>...</td>\n",
       "      <td>...</td>\n",
       "      <td>...</td>\n",
       "    </tr>\n",
       "    <tr>\n",
       "      <th>393</th>\n",
       "      <td>86</td>\n",
       "      <td>2790</td>\n",
       "      <td>27.0</td>\n",
       "    </tr>\n",
       "    <tr>\n",
       "      <th>394</th>\n",
       "      <td>52</td>\n",
       "      <td>2130</td>\n",
       "      <td>44.0</td>\n",
       "    </tr>\n",
       "    <tr>\n",
       "      <th>395</th>\n",
       "      <td>84</td>\n",
       "      <td>2295</td>\n",
       "      <td>32.0</td>\n",
       "    </tr>\n",
       "    <tr>\n",
       "      <th>396</th>\n",
       "      <td>79</td>\n",
       "      <td>2625</td>\n",
       "      <td>28.0</td>\n",
       "    </tr>\n",
       "    <tr>\n",
       "      <th>397</th>\n",
       "      <td>82</td>\n",
       "      <td>2720</td>\n",
       "      <td>31.0</td>\n",
       "    </tr>\n",
       "  </tbody>\n",
       "</table>\n",
       "<p>392 rows × 3 columns</p>\n",
       "</div>"
      ],
      "text/plain": [
       "    horsepower  weight   mpg\n",
       "0          130    3504  18.0\n",
       "1          165    3693  15.0\n",
       "2          150    3436  18.0\n",
       "3          150    3433  16.0\n",
       "4          140    3449  17.0\n",
       "..         ...     ...   ...\n",
       "393         86    2790  27.0\n",
       "394         52    2130  44.0\n",
       "395         84    2295  32.0\n",
       "396         79    2625  28.0\n",
       "397         82    2720  31.0\n",
       "\n",
       "[392 rows x 3 columns]"
      ]
     },
     "execution_count": 12,
     "metadata": {},
     "output_type": "execute_result"
    }
   ],
   "source": [
    "df3=df2[df2['horsepower'] != '?']\n",
    "df3"
   ]
  },
  {
   "cell_type": "markdown",
   "id": "3c41ab32",
   "metadata": {},
   "source": [
    "### To play with horsepower as numerical feature, just converting the type to int"
   ]
  },
  {
   "cell_type": "code",
   "execution_count": 13,
   "id": "70e81f57",
   "metadata": {},
   "outputs": [],
   "source": [
    "df3['horsepower']=df3['horsepower'].astype('int')"
   ]
  },
  {
   "cell_type": "markdown",
   "id": "dad9ddd4",
   "metadata": {},
   "source": [
    "### To see the unique values in each feature"
   ]
  },
  {
   "cell_type": "code",
   "execution_count": 14,
   "id": "38510bf7",
   "metadata": {},
   "outputs": [
    {
     "data": {
      "text/plain": [
       "horsepower     93\n",
       "weight        346\n",
       "mpg           127\n",
       "dtype: int64"
      ]
     },
     "execution_count": 14,
     "metadata": {},
     "output_type": "execute_result"
    }
   ],
   "source": [
    "df3.nunique()"
   ]
  },
  {
   "cell_type": "code",
   "execution_count": 15,
   "id": "d09dd68c",
   "metadata": {},
   "outputs": [
    {
     "data": {
      "text/html": [
       "<div>\n",
       "<style scoped>\n",
       "    .dataframe tbody tr th:only-of-type {\n",
       "        vertical-align: middle;\n",
       "    }\n",
       "\n",
       "    .dataframe tbody tr th {\n",
       "        vertical-align: top;\n",
       "    }\n",
       "\n",
       "    .dataframe thead th {\n",
       "        text-align: right;\n",
       "    }\n",
       "</style>\n",
       "<table border=\"1\" class=\"dataframe\">\n",
       "  <thead>\n",
       "    <tr style=\"text-align: right;\">\n",
       "      <th></th>\n",
       "      <th>horsepower</th>\n",
       "      <th>weight</th>\n",
       "      <th>mpg</th>\n",
       "    </tr>\n",
       "  </thead>\n",
       "  <tbody>\n",
       "    <tr>\n",
       "      <th>horsepower</th>\n",
       "      <td>1.000000</td>\n",
       "      <td>0.864538</td>\n",
       "      <td>-0.778427</td>\n",
       "    </tr>\n",
       "    <tr>\n",
       "      <th>weight</th>\n",
       "      <td>0.864538</td>\n",
       "      <td>1.000000</td>\n",
       "      <td>-0.832244</td>\n",
       "    </tr>\n",
       "    <tr>\n",
       "      <th>mpg</th>\n",
       "      <td>-0.778427</td>\n",
       "      <td>-0.832244</td>\n",
       "      <td>1.000000</td>\n",
       "    </tr>\n",
       "  </tbody>\n",
       "</table>\n",
       "</div>"
      ],
      "text/plain": [
       "            horsepower    weight       mpg\n",
       "horsepower    1.000000  0.864538 -0.778427\n",
       "weight        0.864538  1.000000 -0.832244\n",
       "mpg          -0.778427 -0.832244  1.000000"
      ]
     },
     "execution_count": 15,
     "metadata": {},
     "output_type": "execute_result"
    }
   ],
   "source": [
    "df3.corr()"
   ]
  },
  {
   "cell_type": "code",
   "execution_count": 16,
   "id": "c1e70053",
   "metadata": {},
   "outputs": [
    {
     "data": {
      "image/png": "[encoded data removed]",
      "text/plain": [
       "<Figure size 540x540 with 12 Axes>"
      ]
     },
     "metadata": {
      "needs_background": "light"
     },
     "output_type": "display_data"
    }
   ],
   "source": [
    "sns.pairplot(df3);"
   ]
  },
  {
   "cell_type": "markdown",
   "id": "0b46e1f2",
   "metadata": {},
   "source": []
  },
  {
   "cell_type": "markdown",
   "id": "abf07f9f",
   "metadata": {},
   "source": [
    "### Split the dataset into Independent variables and Dependent variables"
   ]
  },
  {
   "cell_type": "code",
   "execution_count": 17,
   "id": "79bc37f7",
   "metadata": {},
   "outputs": [
    {
     "data": {
      "text/html": [
       "<div>\n",
       "<style scoped>\n",
       "    .dataframe tbody tr th:only-of-type {\n",
       "        vertical-align: middle;\n",
       "    }\n",
       "\n",
       "    .dataframe tbody tr th {\n",
       "        vertical-align: top;\n",
       "    }\n",
       "\n",
       "    .dataframe thead th {\n",
       "        text-align: right;\n",
       "    }\n",
       "</style>\n",
       "<table border=\"1\" class=\"dataframe\">\n",
       "  <thead>\n",
       "    <tr style=\"text-align: right;\">\n",
       "      <th></th>\n",
       "      <th>horsepower</th>\n",
       "      <th>weight</th>\n",
       "    </tr>\n",
       "  </thead>\n",
       "  <tbody>\n",
       "    <tr>\n",
       "      <th>0</th>\n",
       "      <td>130</td>\n",
       "      <td>3504</td>\n",
       "    </tr>\n",
       "    <tr>\n",
       "      <th>1</th>\n",
       "      <td>165</td>\n",
       "      <td>3693</td>\n",
       "    </tr>\n",
       "    <tr>\n",
       "      <th>2</th>\n",
       "      <td>150</td>\n",
       "      <td>3436</td>\n",
       "    </tr>\n",
       "    <tr>\n",
       "      <th>3</th>\n",
       "      <td>150</td>\n",
       "      <td>3433</td>\n",
       "    </tr>\n",
       "    <tr>\n",
       "      <th>4</th>\n",
       "      <td>140</td>\n",
       "      <td>3449</td>\n",
       "    </tr>\n",
       "  </tbody>\n",
       "</table>\n",
       "</div>"
      ],
      "text/plain": [
       "   horsepower  weight\n",
       "0         130    3504\n",
       "1         165    3693\n",
       "2         150    3436\n",
       "3         150    3433\n",
       "4         140    3449"
      ]
     },
     "execution_count": 17,
     "metadata": {},
     "output_type": "execute_result"
    }
   ],
   "source": [
    "X=df3[['horsepower','weight']]\n",
    "X.head()"
   ]
  },
  {
   "cell_type": "code",
   "execution_count": 18,
   "id": "67bc20cd",
   "metadata": {
    "scrolled": true
   },
   "outputs": [
    {
     "data": {
      "text/html": [
       "<div>\n",
       "<style scoped>\n",
       "    .dataframe tbody tr th:only-of-type {\n",
       "        vertical-align: middle;\n",
       "    }\n",
       "\n",
       "    .dataframe tbody tr th {\n",
       "        vertical-align: top;\n",
       "    }\n",
       "\n",
       "    .dataframe thead th {\n",
       "        text-align: right;\n",
       "    }\n",
       "</style>\n",
       "<table border=\"1\" class=\"dataframe\">\n",
       "  <thead>\n",
       "    <tr style=\"text-align: right;\">\n",
       "      <th></th>\n",
       "      <th>mpg</th>\n",
       "    </tr>\n",
       "  </thead>\n",
       "  <tbody>\n",
       "    <tr>\n",
       "      <th>0</th>\n",
       "      <td>18.0</td>\n",
       "    </tr>\n",
       "    <tr>\n",
       "      <th>1</th>\n",
       "      <td>15.0</td>\n",
       "    </tr>\n",
       "    <tr>\n",
       "      <th>2</th>\n",
       "      <td>18.0</td>\n",
       "    </tr>\n",
       "    <tr>\n",
       "      <th>3</th>\n",
       "      <td>16.0</td>\n",
       "    </tr>\n",
       "    <tr>\n",
       "      <th>4</th>\n",
       "      <td>17.0</td>\n",
       "    </tr>\n",
       "  </tbody>\n",
       "</table>\n",
       "</div>"
      ],
      "text/plain": [
       "    mpg\n",
       "0  18.0\n",
       "1  15.0\n",
       "2  18.0\n",
       "3  16.0\n",
       "4  17.0"
      ]
     },
     "execution_count": 18,
     "metadata": {},
     "output_type": "execute_result"
    }
   ],
   "source": [
    "y=df3[['mpg']]\n",
    "y.head()"
   ]
  },
  {
   "cell_type": "markdown",
   "id": "7017436f",
   "metadata": {},
   "source": [
    "### Splitting the dataset into training dataset and testing dataset"
   ]
  },
  {
   "cell_type": "code",
   "execution_count": 19,
   "id": "3ece9c36",
   "metadata": {},
   "outputs": [],
   "source": [
    "X_train, X_test, y_train, y_test = train_test_split(X, y, test_size=0.3,random_state=1)"
   ]
  },
  {
   "cell_type": "code",
   "execution_count": 47,
   "id": "eb97c235",
   "metadata": {},
   "outputs": [],
   "source": [
    "#X_train_2=X_train.copy()# if need later"
   ]
  },
  {
   "cell_type": "code",
   "execution_count": 21,
   "id": "28ecdd0f",
   "metadata": {},
   "outputs": [
    {
     "data": {
      "text/html": [
       "<div>\n",
       "<style scoped>\n",
       "    .dataframe tbody tr th:only-of-type {\n",
       "        vertical-align: middle;\n",
       "    }\n",
       "\n",
       "    .dataframe tbody tr th {\n",
       "        vertical-align: top;\n",
       "    }\n",
       "\n",
       "    .dataframe thead th {\n",
       "        text-align: right;\n",
       "    }\n",
       "</style>\n",
       "<table border=\"1\" class=\"dataframe\">\n",
       "  <thead>\n",
       "    <tr style=\"text-align: right;\">\n",
       "      <th></th>\n",
       "      <th>horsepower</th>\n",
       "      <th>weight</th>\n",
       "    </tr>\n",
       "  </thead>\n",
       "  <tbody>\n",
       "    <tr>\n",
       "      <th>335</th>\n",
       "      <td>88</td>\n",
       "      <td>2500</td>\n",
       "    </tr>\n",
       "    <tr>\n",
       "      <th>397</th>\n",
       "      <td>82</td>\n",
       "      <td>2720</td>\n",
       "    </tr>\n",
       "    <tr>\n",
       "      <th>394</th>\n",
       "      <td>52</td>\n",
       "      <td>2130</td>\n",
       "    </tr>\n",
       "    <tr>\n",
       "      <th>29</th>\n",
       "      <td>88</td>\n",
       "      <td>2130</td>\n",
       "    </tr>\n",
       "    <tr>\n",
       "      <th>275</th>\n",
       "      <td>125</td>\n",
       "      <td>3140</td>\n",
       "    </tr>\n",
       "    <tr>\n",
       "      <th>...</th>\n",
       "      <td>...</td>\n",
       "      <td>...</td>\n",
       "    </tr>\n",
       "    <tr>\n",
       "      <th>205</th>\n",
       "      <td>75</td>\n",
       "      <td>2155</td>\n",
       "    </tr>\n",
       "    <tr>\n",
       "      <th>257</th>\n",
       "      <td>90</td>\n",
       "      <td>3210</td>\n",
       "    </tr>\n",
       "    <tr>\n",
       "      <th>73</th>\n",
       "      <td>130</td>\n",
       "      <td>4098</td>\n",
       "    </tr>\n",
       "    <tr>\n",
       "      <th>237</th>\n",
       "      <td>63</td>\n",
       "      <td>2051</td>\n",
       "    </tr>\n",
       "    <tr>\n",
       "      <th>38</th>\n",
       "      <td>165</td>\n",
       "      <td>4209</td>\n",
       "    </tr>\n",
       "  </tbody>\n",
       "</table>\n",
       "<p>274 rows × 2 columns</p>\n",
       "</div>"
      ],
      "text/plain": [
       "     horsepower  weight\n",
       "335          88    2500\n",
       "397          82    2720\n",
       "394          52    2130\n",
       "29           88    2130\n",
       "275         125    3140\n",
       "..          ...     ...\n",
       "205          75    2155\n",
       "257          90    3210\n",
       "73          130    4098\n",
       "237          63    2051\n",
       "38          165    4209\n",
       "\n",
       "[274 rows x 2 columns]"
      ]
     },
     "execution_count": 21,
     "metadata": {},
     "output_type": "execute_result"
    }
   ],
   "source": [
    "X_train"
   ]
  },
  {
   "cell_type": "code",
   "execution_count": 48,
   "id": "e6c875bd",
   "metadata": {},
   "outputs": [
    {
     "data": {
      "text/html": [
       "<div>\n",
       "<style scoped>\n",
       "    .dataframe tbody tr th:only-of-type {\n",
       "        vertical-align: middle;\n",
       "    }\n",
       "\n",
       "    .dataframe tbody tr th {\n",
       "        vertical-align: top;\n",
       "    }\n",
       "\n",
       "    .dataframe thead th {\n",
       "        text-align: right;\n",
       "    }\n",
       "</style>\n",
       "<table border=\"1\" class=\"dataframe\">\n",
       "  <thead>\n",
       "    <tr style=\"text-align: right;\">\n",
       "      <th></th>\n",
       "      <th>mpg</th>\n",
       "    </tr>\n",
       "  </thead>\n",
       "  <tbody>\n",
       "    <tr>\n",
       "      <th>335</th>\n",
       "      <td>35.0</td>\n",
       "    </tr>\n",
       "    <tr>\n",
       "      <th>397</th>\n",
       "      <td>31.0</td>\n",
       "    </tr>\n",
       "    <tr>\n",
       "      <th>394</th>\n",
       "      <td>44.0</td>\n",
       "    </tr>\n",
       "    <tr>\n",
       "      <th>29</th>\n",
       "      <td>27.0</td>\n",
       "    </tr>\n",
       "    <tr>\n",
       "      <th>275</th>\n",
       "      <td>17.0</td>\n",
       "    </tr>\n",
       "    <tr>\n",
       "      <th>...</th>\n",
       "      <td>...</td>\n",
       "    </tr>\n",
       "    <tr>\n",
       "      <th>205</th>\n",
       "      <td>28.0</td>\n",
       "    </tr>\n",
       "    <tr>\n",
       "      <th>257</th>\n",
       "      <td>19.4</td>\n",
       "    </tr>\n",
       "    <tr>\n",
       "      <th>73</th>\n",
       "      <td>13.0</td>\n",
       "    </tr>\n",
       "    <tr>\n",
       "      <th>237</th>\n",
       "      <td>30.5</td>\n",
       "    </tr>\n",
       "    <tr>\n",
       "      <th>38</th>\n",
       "      <td>14.0</td>\n",
       "    </tr>\n",
       "  </tbody>\n",
       "</table>\n",
       "<p>274 rows × 1 columns</p>\n",
       "</div>"
      ],
      "text/plain": [
       "      mpg\n",
       "335  35.0\n",
       "397  31.0\n",
       "394  44.0\n",
       "29   27.0\n",
       "275  17.0\n",
       "..    ...\n",
       "205  28.0\n",
       "257  19.4\n",
       "73   13.0\n",
       "237  30.5\n",
       "38   14.0\n",
       "\n",
       "[274 rows x 1 columns]"
      ]
     },
     "execution_count": 48,
     "metadata": {},
     "output_type": "execute_result"
    }
   ],
   "source": [
    "y_train"
   ]
  },
  {
   "cell_type": "code",
   "execution_count": 22,
   "id": "8ca6e9a0",
   "metadata": {},
   "outputs": [
    {
     "data": {
      "text/html": [
       "<div>\n",
       "<style scoped>\n",
       "    .dataframe tbody tr th:only-of-type {\n",
       "        vertical-align: middle;\n",
       "    }\n",
       "\n",
       "    .dataframe tbody tr th {\n",
       "        vertical-align: top;\n",
       "    }\n",
       "\n",
       "    .dataframe thead th {\n",
       "        text-align: right;\n",
       "    }\n",
       "</style>\n",
       "<table border=\"1\" class=\"dataframe\">\n",
       "  <thead>\n",
       "    <tr style=\"text-align: right;\">\n",
       "      <th></th>\n",
       "      <th>horsepower</th>\n",
       "      <th>weight</th>\n",
       "    </tr>\n",
       "  </thead>\n",
       "  <tbody>\n",
       "    <tr>\n",
       "      <th>82</th>\n",
       "      <td>97</td>\n",
       "      <td>2506</td>\n",
       "    </tr>\n",
       "    <tr>\n",
       "      <th>167</th>\n",
       "      <td>75</td>\n",
       "      <td>2171</td>\n",
       "    </tr>\n",
       "    <tr>\n",
       "      <th>356</th>\n",
       "      <td>75</td>\n",
       "      <td>2350</td>\n",
       "    </tr>\n",
       "    <tr>\n",
       "      <th>120</th>\n",
       "      <td>112</td>\n",
       "      <td>2868</td>\n",
       "    </tr>\n",
       "    <tr>\n",
       "      <th>385</th>\n",
       "      <td>67</td>\n",
       "      <td>1995</td>\n",
       "    </tr>\n",
       "    <tr>\n",
       "      <th>...</th>\n",
       "      <td>...</td>\n",
       "      <td>...</td>\n",
       "    </tr>\n",
       "    <tr>\n",
       "      <th>60</th>\n",
       "      <td>90</td>\n",
       "      <td>2408</td>\n",
       "    </tr>\n",
       "    <tr>\n",
       "      <th>12</th>\n",
       "      <td>150</td>\n",
       "      <td>3761</td>\n",
       "    </tr>\n",
       "    <tr>\n",
       "      <th>305</th>\n",
       "      <td>90</td>\n",
       "      <td>2670</td>\n",
       "    </tr>\n",
       "    <tr>\n",
       "      <th>165</th>\n",
       "      <td>110</td>\n",
       "      <td>3221</td>\n",
       "    </tr>\n",
       "    <tr>\n",
       "      <th>92</th>\n",
       "      <td>158</td>\n",
       "      <td>4363</td>\n",
       "    </tr>\n",
       "  </tbody>\n",
       "</table>\n",
       "<p>118 rows × 2 columns</p>\n",
       "</div>"
      ],
      "text/plain": [
       "     horsepower  weight\n",
       "82           97    2506\n",
       "167          75    2171\n",
       "356          75    2350\n",
       "120         112    2868\n",
       "385          67    1995\n",
       "..          ...     ...\n",
       "60           90    2408\n",
       "12          150    3761\n",
       "305          90    2670\n",
       "165         110    3221\n",
       "92          158    4363\n",
       "\n",
       "[118 rows x 2 columns]"
      ]
     },
     "execution_count": 22,
     "metadata": {},
     "output_type": "execute_result"
    }
   ],
   "source": [
    "X_test"
   ]
  },
  {
   "cell_type": "markdown",
   "id": "a04c75dd",
   "metadata": {},
   "source": [
    "### Normalization"
   ]
  },
  {
   "cell_type": "code",
   "execution_count": 23,
   "id": "7020aa09",
   "metadata": {},
   "outputs": [],
   "source": [
    "from sklearn.preprocessing import PowerTransformer"
   ]
  },
  {
   "cell_type": "code",
   "execution_count": 24,
   "id": "35455e8f",
   "metadata": {},
   "outputs": [],
   "source": [
    "pt = PowerTransformer()"
   ]
  },
  {
   "cell_type": "code",
   "execution_count": 25,
   "id": "d395c01d",
   "metadata": {},
   "outputs": [
    {
     "data": {
      "text/plain": [
       "PowerTransformer()"
      ]
     },
     "execution_count": 25,
     "metadata": {},
     "output_type": "execute_result"
    }
   ],
   "source": [
    "pt.fit(X_train)"
   ]
  },
  {
   "cell_type": "code",
   "execution_count": 26,
   "id": "09313e5d",
   "metadata": {},
   "outputs": [
    {
     "data": {
      "text/plain": [
       "array([[-0.22038092, -0.41987425],\n",
       "       [-0.440778  , -0.10984565],\n",
       "       [-2.02643612, -1.03324847],\n",
       "       [-0.22038092, -1.03324847],\n",
       "       [ 0.78411681,  0.39827703],\n",
       "       [-1.21278669, -1.33418121],\n",
       "       [ 1.25062924,  0.92503396],\n",
       "       [-1.88360704, -0.81279481],\n",
       "       [-0.51937191,  0.4954366 ],\n",
       "       [ 1.28314968,  1.36687861],\n",
       "       [ 0.07315184, -0.3535658 ],\n",
       "       [-1.21278669, -0.60476911],\n",
       "       [-0.77282483, -1.32398696],\n",
       "       [-0.15158208,  0.6891707 ],\n",
       "       [ 1.25062924,  1.01702514],\n",
       "       [ 0.16256279,  1.02046193],\n",
       "       [ 0.01134033,  0.35613129],\n",
       "       [ 1.23413713,  1.45434569],\n",
       "       [ 0.01134033, -0.61753643],\n",
       "       [ 0.07315184, -0.56523743],\n",
       "       [ 1.68273547,  0.9178814 ],\n",
       "       [ 1.25062924,  1.39786602],\n",
       "       [-0.32783106, -0.71847095],\n",
       "       [-0.68521033, -1.15577139],\n",
       "       [ 0.35716572, -0.46194204],\n",
       "       [ 1.80462186,  1.07899344],\n",
       "       [ 0.01134033, -0.14471236],\n",
       "       [ 0.07315184, -0.03883103],\n",
       "       [-0.95850177, -1.41279958],\n",
       "       [ 0.88750354,  0.77030063],\n",
       "       [ 1.68273547,  1.56879209],\n",
       "       [-1.95407615, -1.72585866],\n",
       "       [-0.91070342, -1.65702476],\n",
       "       [ 0.07315184, -0.68552029],\n",
       "       [ 1.61811821,  1.54483964],\n",
       "       [ 0.01134033,  0.5312059 ],\n",
       "       [ 0.30344504,  0.97190013],\n",
       "       [-0.72860552, -0.89793007],\n",
       "       [-1.3223512 , -1.04249527],\n",
       "       [-0.72860552, -1.07415282],\n",
       "       [ 1.55082174,  1.73104119],\n",
       "       [ 1.68273547,  1.37058915],\n",
       "       [ 0.43513391,  0.78545995],\n",
       "       [ 0.38349572,  0.15637261],\n",
       "       [ 1.25062924,  1.34823739],\n",
       "       [-0.15158208,  0.18039502],\n",
       "       [ 1.04169869,  1.1654277 ],\n",
       "       [ 0.24825533,  0.03289137],\n",
       "       [ 0.07315184, -0.43632556],\n",
       "       [-1.10786887,  0.51653785],\n",
       "       [ 0.01134033,  0.12481434],\n",
       "       [ 0.16256279,  0.59822405],\n",
       "       [-0.15158208, -1.04434811],\n",
       "       [-0.18570826, -0.06360573],\n",
       "       [ 1.25062924,  1.70104796],\n",
       "       [-0.08491173,  0.07676325],\n",
       "       [ 1.55082174,  1.68104519],\n",
       "       [-2.50566699, -1.63441477],\n",
       "       [ 1.07827682,  0.98064306],\n",
       "       [ 0.43513391,  1.12629964],\n",
       "       [-0.72860552, -0.85418183],\n",
       "       [ 0.43513391,  0.19470441],\n",
       "       [ 0.16256279, -0.54178064],\n",
       "       [ 0.16256279,  0.8872489 ],\n",
       "       [-0.60079036, -0.92449796],\n",
       "       [-0.86384489, -0.57152557],\n",
       "       [-1.61906246, -1.82006226],\n",
       "       [ 0.04247385, -0.13393648],\n",
       "       [-0.29142638, -0.58098402],\n",
       "       [-0.95850177, -1.04249527],\n",
       "       [ 1.61811821,  1.27987994],\n",
       "       [ 2.16829795,  1.51785278],\n",
       "       [-0.55971736, -0.23946211],\n",
       "       [-0.22038092,  0.26395039],\n",
       "       [-1.10786887, -1.15577139],\n",
       "       [-2.3366334 , -1.11752995],\n",
       "       [-0.15158208,  0.65059372],\n",
       "       [ 1.83942206,  1.72214863],\n",
       "       [ 0.01134033, -0.85765757],\n",
       "       [-0.95850177, -1.37530519],\n",
       "       [ 0.30344504,  0.64959676],\n",
       "       [ 0.16256279, -0.22691603],\n",
       "       [ 0.01134033, -0.39759565],\n",
       "       [-0.29142638, -0.87160223],\n",
       "       [-1.10786887,  0.18039502],\n",
       "       [-1.10786887, -1.3546734 ],\n",
       "       [ 0.30344504,  0.7077526 ],\n",
       "       [ 1.48065162,  0.71359213],\n",
       "       [-0.22038092,  0.57059957],\n",
       "       [-1.49621106, -1.80813091],\n",
       "       [ 1.25062924,  1.3066992 ],\n",
       "       [ 1.21748707,  1.67390477],\n",
       "       [-0.51937191, -0.49391237],\n",
       "       [ 0.16256279,  0.54994192],\n",
       "       [ 1.16656303,  1.3105058 ],\n",
       "       [ 2.00254439,  1.65824725],\n",
       "       [-0.95850177, -1.14616484],\n",
       "       [ 0.92729209,  0.13213039],\n",
       "       [ 0.94686706,  0.67933533],\n",
       "       [-0.22038092, -0.9783694 ],\n",
       "       [ 0.04247385, -0.18413576],\n",
       "       [-0.22038092, -0.58098402],\n",
       "       [-0.86384489, -0.56053049],\n",
       "       [ 1.25062924,  1.15326855],\n",
       "       [-0.60079036, -0.28596013],\n",
       "       [-2.3366334 , -1.31382699],\n",
       "       [-0.22038092,  0.39717666],\n",
       "       [-0.15158208, -0.79402174],\n",
       "       [ 0.1033855 ,  0.17440984],\n",
       "       [ 1.16656303,  1.10400706],\n",
       "       [-0.95850177, -0.90675918],\n",
       "       [ 1.25062924,  1.27679543],\n",
       "       [-0.15158208, -0.52625028],\n",
       "       [-2.50566699, -1.38567396],\n",
       "       [ 0.86728202,  0.42998563],\n",
       "       [ 1.80462186,  1.51576373],\n",
       "       [-1.00727245, -2.17911599],\n",
       "       [ 0.43513391,  0.90081024],\n",
       "       [-0.32783106,  0.0643017 ],\n",
       "       [ 1.07827682,  1.66151815],\n",
       "       [-0.15158208, -0.20751317],\n",
       "       [-0.32783106, -0.31022307],\n",
       "       [ 0.67469209,  1.17108093],\n",
       "       [-0.40248892, -0.90322432],\n",
       "       [ 0.22008802,  0.40925502],\n",
       "       [ 1.07827682,  1.31126638],\n",
       "       [ 0.78411681,  1.12053987],\n",
       "       [-2.25576983, -1.56315332],\n",
       "       [ 0.88750354,  1.09569795],\n",
       "       [ 0.58238811,  0.11992575],\n",
       "       [-2.02643612, -2.08420268],\n",
       "       [-1.05704954, -1.2337578 ],\n",
       "       [ 0.43513391, -0.10319148],\n",
       "       [ 1.16656303,  1.24494566],\n",
       "       [ 1.06008114,  0.83224635],\n",
       "       [-1.37898723, -1.18477825],\n",
       "       [-0.60079036, -1.4065183 ],\n",
       "       [-0.22038092,  0.08297229],\n",
       "       [ 0.04247385, -0.73508937],\n",
       "       [ 0.01134033, -0.77199161],\n",
       "       [-0.95850177, -1.05177114],\n",
       "       [-1.21278669, -1.07041076],\n",
       "       [ 0.98539747,  1.06217274],\n",
       "       [-0.47973237, -0.87160223],\n",
       "       [ 0.16256279,  0.54579023],\n",
       "       [ 1.16656303,  1.26596792],\n",
       "       [-0.11798788, -0.30020664],\n",
       "       [-0.64261349,  0.79488791],\n",
       "       [-0.91070342, -0.86636514],\n",
       "       [-1.26696645, -1.54559221],\n",
       "       [-1.49621106, -1.63666837],\n",
       "       [-0.22038092,  0.18875158],\n",
       "       [-1.49621106, -0.97112904],\n",
       "       [-0.60079036,  0.83595146],\n",
       "       [-0.08491173, -0.31452696],\n",
       "       [ 0.30344504, -0.00529334],\n",
       "       [ 1.50907777,  1.83024688],\n",
       "       [ 0.43513391,  1.24885274],\n",
       "       [-0.72860552, -0.35793755],\n",
       "       [ 0.86728202,  0.97190013],\n",
       "       [-0.29142638, -0.86113746],\n",
       "       [ 2.16829795,  1.8573732 ],\n",
       "       [-2.02643612, -1.21406967],\n",
       "       [-1.10786887, -1.35878853],\n",
       "       [-0.0523402 , -0.58730724],\n",
       "       [-0.95850177, -1.30370111],\n",
       "       [-0.86384489,  0.70092261],\n",
       "       [-1.21278669, -1.07041076],\n",
       "       [ 1.55082174,  0.82574906],\n",
       "       [ 0.30344504, -0.07673681],\n",
       "       [ 0.30344504,  0.37728975],\n",
       "       [ 1.68273547,  1.48631692],\n",
       "       [ 0.43513391, -0.27461563],\n",
       "       [-0.51937191, -1.04064359],\n",
       "       [-0.95850177, -0.99654885],\n",
       "       [ 0.16256279,  0.55615682],\n",
       "       [-0.77282483, -0.22552555],\n",
       "       [-0.25561508, -0.17456753],\n",
       "       [-1.21278669, -1.1945102 ],\n",
       "       [ 0.48545873,  0.1599899 ],\n",
       "       [ 0.01134033,  0.45593584],\n",
       "       [-0.25561508,  0.21484415],\n",
       "       [ 1.07827682,  1.26441708],\n",
       "       [-0.29142638, -0.01814309],\n",
       "       [-1.10786887, -1.28355081],\n",
       "       [-1.3223512 , -0.88035174],\n",
       "       [ 1.25062924,  0.70482774],\n",
       "       [-1.21278669, -1.77731986],\n",
       "       [ 1.06008114,  0.46881354],\n",
       "       [-0.22038092, -0.10984565],\n",
       "       [ 0.67469209,  0.67933533],\n",
       "       [-0.55971736, -0.81108312],\n",
       "       [ 0.30344504,  0.72716507],\n",
       "       [-0.95850177, -0.82824574],\n",
       "       [-1.00727245, -1.03324847],\n",
       "       [ 0.30344504,  0.62252932],\n",
       "       [ 1.25062924,  1.26208893],\n",
       "       [-1.15976806, -1.71428019],\n",
       "       [ 0.43513391,  0.17440984],\n",
       "       [ 1.02312619,  1.23475709],\n",
       "       [ 0.07315184,  0.01386689],\n",
       "       [-1.43692333, -1.27753192],\n",
       "       [-1.10786887, -1.00568093],\n",
       "       [ 0.07315184, -0.73508937],\n",
       "       [ 1.11412058,  1.24416347],\n",
       "       [ 1.25062924,  1.54001906],\n",
       "       [-0.40248892, -0.21997067],\n",
       "       [-0.22038092, -1.0891686 ],\n",
       "       [-0.72860552, -0.88912764],\n",
       "       [ 1.16656303,  1.52826977],\n",
       "       [-0.32783106,  0.22779421],\n",
       "       [ 0.16256279,  0.60533718],\n",
       "       [-0.95850177, -1.41279958],\n",
       "       [ 0.01134033, -0.33180972],\n",
       "       [-0.22038092, -0.21858371],\n",
       "       [ 1.55082174,  1.67195347],\n",
       "       [-0.86384489,  0.41800398],\n",
       "       [ 0.43513391,  0.62957466],\n",
       "       [ 0.1033855 ,  0.79017839],\n",
       "       [ 2.07305208,  1.64643291],\n",
       "       [-1.95407615, -1.72585866],\n",
       "       [ 1.2991829 ,  1.30212318],\n",
       "       [ 0.01134033,  0.03668012],\n",
       "       [-0.91070342,  0.45270632],\n",
       "       [-0.02026034, -0.60636189],\n",
       "       [-0.08491173, -0.24645699],\n",
       "       [-1.49621106, -1.34851116],\n",
       "       [ 1.91771102,  1.48349282],\n",
       "       [-0.68521033, -0.40351924],\n",
       "       [ 1.61811821,  1.96781061],\n",
       "       [-0.22038092,  0.10766482],\n",
       "       [ 1.25062924,  0.70189946],\n",
       "       [-0.22038092, -0.26754893],\n",
       "       [-0.15158208, -1.04620212],\n",
       "       [-0.08491173, -0.29592497],\n",
       "       [-0.15158208, -0.79572335],\n",
       "       [ 0.43513391, -0.19099077],\n",
       "       [ 2.21369162,  1.41320715],\n",
       "       [-0.15158208, -0.08993188],\n",
       "       [-1.61906246, -1.65702476],\n",
       "       [-1.05704954, -0.98744505],\n",
       "       [ 0.67469209,  1.05371836],\n",
       "       [-0.15158208, -0.12186439],\n",
       "       [ 1.48065162,  0.9437109 ],\n",
       "       [-0.15158208,  0.2430171 ],\n",
       "       [ 0.01134033, -0.61274196],\n",
       "       [-0.72860552, -0.35793755],\n",
       "       [-0.72860552, -0.79402174],\n",
       "       [ 2.07305208,  1.43783329],\n",
       "       [-0.60079036, -0.73508937],\n",
       "       [ 1.16656303,  1.19196252],\n",
       "       [ 0.16256279, -0.2534697 ],\n",
       "       [ 0.43513391, -0.10984565],\n",
       "       [-0.51937191, -0.98744505],\n",
       "       [ 1.4073929 ,  1.53932959],\n",
       "       [-0.95850177, -1.13850187],\n",
       "       [ 1.25062924,  1.56811119],\n",
       "       [-0.32783106,  0.19826967],\n",
       "       [ 0.67469209,  0.15637261],\n",
       "       [ 0.16256279,  0.69896777],\n",
       "       [-0.91070342, -1.30370111],\n",
       "       [ 0.55860452, -0.17593237],\n",
       "       [-0.15158208,  0.5322504 ],\n",
       "       [-1.10786887, -1.31382699],\n",
       "       [ 1.25062924,  1.11394035],\n",
       "       [-1.21278669, -1.63216282],\n",
       "       [-0.72860552, -1.04249527],\n",
       "       [-0.36484605, -0.22552555],\n",
       "       [ 0.30344504,  0.8717887 ],\n",
       "       [-0.72860552, -0.98744505],\n",
       "       [-0.15158208,  0.47416028],\n",
       "       [ 0.88750354,  1.27833819],\n",
       "       [-1.3223512 , -1.18283566],\n",
       "       [ 1.48065162,  1.3624182 ]])"
      ]
     },
     "execution_count": 26,
     "metadata": {},
     "output_type": "execute_result"
    }
   ],
   "source": [
    "X_train=pt.transform(X_train)\n",
    "X_train"
   ]
  },
  {
   "cell_type": "markdown",
   "id": "bf461813",
   "metadata": {},
   "source": [
    "### Model"
   ]
  },
  {
   "cell_type": "code",
   "execution_count": 27,
   "id": "af02989f",
   "metadata": {},
   "outputs": [],
   "source": [
    "multiple_linear_regressor=LinearRegression()"
   ]
  },
  {
   "cell_type": "code",
   "execution_count": 28,
   "id": "72d4dcef",
   "metadata": {},
   "outputs": [
    {
     "data": {
      "text/plain": [
       "LinearRegression()"
      ]
     },
     "execution_count": 28,
     "metadata": {},
     "output_type": "execute_result"
    }
   ],
   "source": [
    "multiple_linear_regressor.fit(X_train,y_train)"
   ]
  },
  {
   "cell_type": "code",
   "execution_count": 29,
   "id": "e079a93d",
   "metadata": {},
   "outputs": [
    {
     "data": {
      "text/html": [
       "<div>\n",
       "<style scoped>\n",
       "    .dataframe tbody tr th:only-of-type {\n",
       "        vertical-align: middle;\n",
       "    }\n",
       "\n",
       "    .dataframe tbody tr th {\n",
       "        vertical-align: top;\n",
       "    }\n",
       "\n",
       "    .dataframe thead th {\n",
       "        text-align: right;\n",
       "    }\n",
       "</style>\n",
       "<table border=\"1\" class=\"dataframe\">\n",
       "  <thead>\n",
       "    <tr style=\"text-align: right;\">\n",
       "      <th></th>\n",
       "      <th>horsepower</th>\n",
       "      <th>weight</th>\n",
       "      <th>mpg</th>\n",
       "    </tr>\n",
       "  </thead>\n",
       "  <tbody>\n",
       "    <tr>\n",
       "      <th>horsepower</th>\n",
       "      <td>1.000000</td>\n",
       "      <td>0.864538</td>\n",
       "      <td>-0.778427</td>\n",
       "    </tr>\n",
       "    <tr>\n",
       "      <th>weight</th>\n",
       "      <td>0.864538</td>\n",
       "      <td>1.000000</td>\n",
       "      <td>-0.832244</td>\n",
       "    </tr>\n",
       "    <tr>\n",
       "      <th>mpg</th>\n",
       "      <td>-0.778427</td>\n",
       "      <td>-0.832244</td>\n",
       "      <td>1.000000</td>\n",
       "    </tr>\n",
       "  </tbody>\n",
       "</table>\n",
       "</div>"
      ],
      "text/plain": [
       "            horsepower    weight       mpg\n",
       "horsepower    1.000000  0.864538 -0.778427\n",
       "weight        0.864538  1.000000 -0.832244\n",
       "mpg          -0.778427 -0.832244  1.000000"
      ]
     },
     "execution_count": 29,
     "metadata": {},
     "output_type": "execute_result"
    }
   ],
   "source": [
    "df3.corr()"
   ]
  },
  {
   "cell_type": "code",
   "execution_count": 30,
   "id": "2adfe05d",
   "metadata": {},
   "outputs": [
    {
     "data": {
      "text/plain": [
       "(array([[-2.82996469, -3.90361223]]), array([23.41386861]))"
      ]
     },
     "execution_count": 30,
     "metadata": {},
     "output_type": "execute_result"
    }
   ],
   "source": [
    "multiple_linear_regressor.coef_,multiple_linear_regressor.intercept_# with power transformer"
   ]
  },
  {
   "cell_type": "code",
   "execution_count": 31,
   "id": "04a852ca",
   "metadata": {},
   "outputs": [
    {
     "data": {
      "text/plain": [
       "0.7689166461038088"
      ]
     },
     "execution_count": 31,
     "metadata": {},
     "output_type": "execute_result"
    }
   ],
   "source": [
    "multiple_linear_regressor.score(pt.transform(X_test),y_test)# with power transformer"
   ]
  },
  {
   "cell_type": "code",
   "execution_count": 32,
   "id": "2b7ecf2c",
   "metadata": {},
   "outputs": [
    {
     "data": {
      "text/plain": [
       "array([[24.81100762],\n",
       "       [29.21741376],\n",
       "       [28.02464002],\n",
       "       [21.72583421],\n",
       "       [31.59884676],\n",
       "       [28.98970156],\n",
       "       [29.88024337],\n",
       "       [14.47530691],\n",
       "       [26.60201442],\n",
       "       [28.79327227],\n",
       "       [19.83720333],\n",
       "       [29.28592094],\n",
       "       [16.72306665],\n",
       "       [31.57614295],\n",
       "       [25.94083486],\n",
       "       [17.56162891],\n",
       "       [26.86948754],\n",
       "       [32.67053735],\n",
       "       [11.68014711],\n",
       "       [22.4190401 ],\n",
       "       [28.70222919],\n",
       "       [18.71190407],\n",
       "       [17.26517707],\n",
       "       [13.83545168],\n",
       "       [12.35503519],\n",
       "       [15.3727188 ],\n",
       "       [31.06818613],\n",
       "       [19.41631384],\n",
       "       [21.07102672],\n",
       "       [26.77611833],\n",
       "       [17.40314065],\n",
       "       [24.36281245],\n",
       "       [13.51580614],\n",
       "       [21.88700428],\n",
       "       [19.84573409],\n",
       "       [15.02661925],\n",
       "       [19.38489123],\n",
       "       [19.43384628],\n",
       "       [31.83721803],\n",
       "       [28.07094019],\n",
       "       [12.65761985],\n",
       "       [13.01888492],\n",
       "       [21.36418134],\n",
       "       [22.48090395],\n",
       "       [23.02967447],\n",
       "       [18.37145402],\n",
       "       [12.5172429 ],\n",
       "       [31.65333666],\n",
       "       [21.00743029],\n",
       "       [10.81715393],\n",
       "       [16.26365815],\n",
       "       [21.76284408],\n",
       "       [24.49237338],\n",
       "       [27.34845112],\n",
       "       [33.60885398],\n",
       "       [22.34517424],\n",
       "       [22.93268697],\n",
       "       [25.48566698],\n",
       "       [25.16067925],\n",
       "       [34.3399782 ],\n",
       "       [23.3384251 ],\n",
       "       [26.08921296],\n",
       "       [32.05413824],\n",
       "       [19.70524194],\n",
       "       [22.52711661],\n",
       "       [21.98773357],\n",
       "       [21.93947791],\n",
       "       [16.04212663],\n",
       "       [31.60473647],\n",
       "       [11.3919716 ],\n",
       "       [25.68428618],\n",
       "       [17.82025228],\n",
       "       [15.97868813],\n",
       "       [28.73686539],\n",
       "       [25.27748038],\n",
       "       [30.58006692],\n",
       "       [15.95754206],\n",
       "       [13.84417712],\n",
       "       [13.71844062],\n",
       "       [26.14376205],\n",
       "       [18.75443393],\n",
       "       [27.9621179 ],\n",
       "       [31.70848054],\n",
       "       [29.20981714],\n",
       "       [14.71803788],\n",
       "       [19.51137783],\n",
       "       [32.79802519],\n",
       "       [25.575775  ],\n",
       "       [31.9582322 ],\n",
       "       [23.78191056],\n",
       "       [28.67458396],\n",
       "       [21.48042877],\n",
       "       [15.33745982],\n",
       "       [11.88125246],\n",
       "       [10.79617366],\n",
       "       [22.36637425],\n",
       "       [14.80040598],\n",
       "       [21.87875099],\n",
       "       [23.09206408],\n",
       "       [13.90098227],\n",
       "       [27.04450668],\n",
       "       [27.12561395],\n",
       "       [22.27299329],\n",
       "       [28.57534949],\n",
       "       [29.30912925],\n",
       "       [30.40269981],\n",
       "       [22.83233682],\n",
       "       [34.27728239],\n",
       "       [14.580041  ],\n",
       "       [18.19062921],\n",
       "       [31.70074172],\n",
       "       [23.71274408],\n",
       "       [31.53395261],\n",
       "       [26.03093419],\n",
       "       [15.95841407],\n",
       "       [24.53494276],\n",
       "       [20.28575202],\n",
       "       [13.76146136]])"
      ]
     },
     "execution_count": 32,
     "metadata": {},
     "output_type": "execute_result"
    }
   ],
   "source": [
    "multiple_linear_regressor.predict(pt.transform(X_test))"
   ]
  },
  {
   "cell_type": "code",
   "execution_count": 33,
   "id": "3d6bce9e",
   "metadata": {},
   "outputs": [
    {
     "data": {
      "text/plain": [
       "array([24.81100762, 29.21741376, 28.02464002, 21.72583421, 31.59884676,\n",
       "       28.98970156, 29.88024337, 14.47530691, 26.60201442, 28.79327227,\n",
       "       19.83720333, 29.28592094, 16.72306665, 31.57614295, 25.94083486,\n",
       "       17.56162891, 26.86948754, 32.67053735, 11.68014711, 22.4190401 ,\n",
       "       28.70222919, 18.71190407, 17.26517707, 13.83545168, 12.35503519,\n",
       "       15.3727188 , 31.06818613, 19.41631384, 21.07102672, 26.77611833,\n",
       "       17.40314065, 24.36281245, 13.51580614, 21.88700428, 19.84573409,\n",
       "       15.02661925, 19.38489123, 19.43384628, 31.83721803, 28.07094019,\n",
       "       12.65761985, 13.01888492, 21.36418134, 22.48090395, 23.02967447,\n",
       "       18.37145402, 12.5172429 , 31.65333666, 21.00743029, 10.81715393,\n",
       "       16.26365815, 21.76284408, 24.49237338, 27.34845112, 33.60885398,\n",
       "       22.34517424, 22.93268697, 25.48566698, 25.16067925, 34.3399782 ,\n",
       "       23.3384251 , 26.08921296, 32.05413824, 19.70524194, 22.52711661,\n",
       "       21.98773357, 21.93947791, 16.04212663, 31.60473647, 11.3919716 ,\n",
       "       25.68428618, 17.82025228, 15.97868813, 28.73686539, 25.27748038,\n",
       "       30.58006692, 15.95754206, 13.84417712, 13.71844062, 26.14376205,\n",
       "       18.75443393, 27.9621179 , 31.70848054, 29.20981714, 14.71803788,\n",
       "       19.51137783, 32.79802519, 25.575775  , 31.9582322 , 23.78191056,\n",
       "       28.67458396, 21.48042877, 15.33745982, 11.88125246, 10.79617366,\n",
       "       22.36637425, 14.80040598, 21.87875099, 23.09206408, 13.90098227,\n",
       "       27.04450668, 27.12561395, 22.27299329, 28.57534949, 29.30912925,\n",
       "       30.40269981, 22.83233682, 34.27728239, 14.580041  , 18.19062921,\n",
       "       31.70074172, 23.71274408, 31.53395261, 26.03093419, 15.95841407,\n",
       "       24.53494276, 20.28575202, 13.76146136])"
      ]
     },
     "execution_count": 33,
     "metadata": {},
     "output_type": "execute_result"
    }
   ],
   "source": [
    "predictions=multiple_linear_regressor.predict(pt.transform(X_test)).flatten()\n",
    "predictions"
   ]
  },
  {
   "cell_type": "markdown",
   "id": "769afb6f",
   "metadata": {},
   "source": [
    "### Plots"
   ]
  },
  {
   "cell_type": "code",
   "execution_count": 35,
   "id": "1de4bc4b",
   "metadata": {},
   "outputs": [],
   "source": [
    "import matplotlib.pyplot as plt"
   ]
  },
  {
   "cell_type": "code",
   "execution_count": 36,
   "id": "5a08d932",
   "metadata": {},
   "outputs": [
    {
     "data": {
      "image/png": "[encoded data removed]",
      "text/plain": [
       "<Figure size 432x288 with 1 Axes>"
      ]
     },
     "metadata": {
      "needs_background": "light"
     },
     "output_type": "display_data"
    }
   ],
   "source": [
    "fig = plt.figure()\n",
    "ax = plt.axes(projection='3d')\n"
   ]
  },
  {
   "cell_type": "code",
   "execution_count": 37,
   "id": "bf585c21",
   "metadata": {},
   "outputs": [
    {
     "data": {
      "image/png": "[encoded data removed]",
      "text/plain": [
       "<Figure size 432x288 with 1 Axes>"
      ]
     },
     "metadata": {
      "needs_background": "light"
     },
     "output_type": "display_data"
    }
   ],
   "source": [
    "ax = plt.axes(projection='3d')\n",
    "ax.scatter3D(df3['horsepower'],df3['weight'], df3['mpg'], color='blue');"
   ]
  },
  {
   "cell_type": "code",
   "execution_count": 38,
   "id": "5d7a458a",
   "metadata": {},
   "outputs": [
    {
     "data": {
      "image/png": "[encoded data removed]",
      "text/plain": [
       "<Figure size 432x288 with 1 Axes>"
      ]
     },
     "metadata": {
      "needs_background": "light"
     },
     "output_type": "display_data"
    }
   ],
   "source": [
    "ax = plt.axes(projection='3d')\n",
    "ax.scatter3D(X_test['horsepower'],X_test['weight'], y_test['mpg'], color='blue');"
   ]
  },
  {
   "cell_type": "code",
   "execution_count": 39,
   "id": "9d717214",
   "metadata": {},
   "outputs": [
    {
     "data": {
      "image/png": "[encoded data removed]",
      "text/plain": [
       "<Figure size 432x288 with 1 Axes>"
      ]
     },
     "metadata": {
      "needs_background": "light"
     },
     "output_type": "display_data"
    }
   ],
   "source": [
    "ax = plt.axes(projection='3d')\n",
    "ax.scatter3D(X_test['horsepower'],X_test['weight'], y_test['mpg'], color='blue');\n",
    "ax.plot3D(X_test['horsepower'],X_test['weight'], predictions, color='red');"
   ]
  },
  {
   "cell_type": "code",
   "execution_count": 40,
   "id": "2516eab7",
   "metadata": {},
   "outputs": [
    {
     "data": {
      "text/html": [
       "<div>\n",
       "<style scoped>\n",
       "    .dataframe tbody tr th:only-of-type {\n",
       "        vertical-align: middle;\n",
       "    }\n",
       "\n",
       "    .dataframe tbody tr th {\n",
       "        vertical-align: top;\n",
       "    }\n",
       "\n",
       "    .dataframe thead th {\n",
       "        text-align: right;\n",
       "    }\n",
       "</style>\n",
       "<table border=\"1\" class=\"dataframe\">\n",
       "  <thead>\n",
       "    <tr style=\"text-align: right;\">\n",
       "      <th></th>\n",
       "      <th>horsepower</th>\n",
       "      <th>weight</th>\n",
       "    </tr>\n",
       "  </thead>\n",
       "  <tbody>\n",
       "    <tr>\n",
       "      <th>82</th>\n",
       "      <td>97</td>\n",
       "      <td>2506</td>\n",
       "    </tr>\n",
       "    <tr>\n",
       "      <th>167</th>\n",
       "      <td>75</td>\n",
       "      <td>2171</td>\n",
       "    </tr>\n",
       "    <tr>\n",
       "      <th>356</th>\n",
       "      <td>75</td>\n",
       "      <td>2350</td>\n",
       "    </tr>\n",
       "    <tr>\n",
       "      <th>120</th>\n",
       "      <td>112</td>\n",
       "      <td>2868</td>\n",
       "    </tr>\n",
       "    <tr>\n",
       "      <th>385</th>\n",
       "      <td>67</td>\n",
       "      <td>1995</td>\n",
       "    </tr>\n",
       "    <tr>\n",
       "      <th>...</th>\n",
       "      <td>...</td>\n",
       "      <td>...</td>\n",
       "    </tr>\n",
       "    <tr>\n",
       "      <th>60</th>\n",
       "      <td>90</td>\n",
       "      <td>2408</td>\n",
       "    </tr>\n",
       "    <tr>\n",
       "      <th>12</th>\n",
       "      <td>150</td>\n",
       "      <td>3761</td>\n",
       "    </tr>\n",
       "    <tr>\n",
       "      <th>305</th>\n",
       "      <td>90</td>\n",
       "      <td>2670</td>\n",
       "    </tr>\n",
       "    <tr>\n",
       "      <th>165</th>\n",
       "      <td>110</td>\n",
       "      <td>3221</td>\n",
       "    </tr>\n",
       "    <tr>\n",
       "      <th>92</th>\n",
       "      <td>158</td>\n",
       "      <td>4363</td>\n",
       "    </tr>\n",
       "  </tbody>\n",
       "</table>\n",
       "<p>118 rows × 2 columns</p>\n",
       "</div>"
      ],
      "text/plain": [
       "     horsepower  weight\n",
       "82           97    2506\n",
       "167          75    2171\n",
       "356          75    2350\n",
       "120         112    2868\n",
       "385          67    1995\n",
       "..          ...     ...\n",
       "60           90    2408\n",
       "12          150    3761\n",
       "305          90    2670\n",
       "165         110    3221\n",
       "92          158    4363\n",
       "\n",
       "[118 rows x 2 columns]"
      ]
     },
     "execution_count": 40,
     "metadata": {},
     "output_type": "execute_result"
    }
   ],
   "source": [
    "X_test"
   ]
  },
  {
   "cell_type": "code",
   "execution_count": 41,
   "id": "309923a5",
   "metadata": {},
   "outputs": [
    {
     "data": {
      "text/html": [
       "<div>\n",
       "<style scoped>\n",
       "    .dataframe tbody tr th:only-of-type {\n",
       "        vertical-align: middle;\n",
       "    }\n",
       "\n",
       "    .dataframe tbody tr th {\n",
       "        vertical-align: top;\n",
       "    }\n",
       "\n",
       "    .dataframe thead th {\n",
       "        text-align: right;\n",
       "    }\n",
       "</style>\n",
       "<table border=\"1\" class=\"dataframe\">\n",
       "  <thead>\n",
       "    <tr style=\"text-align: right;\">\n",
       "      <th></th>\n",
       "      <th>horsepower</th>\n",
       "      <th>weight</th>\n",
       "      <th>mpg</th>\n",
       "      <th>predicted_mpg</th>\n",
       "    </tr>\n",
       "  </thead>\n",
       "  <tbody>\n",
       "    <tr>\n",
       "      <th>82</th>\n",
       "      <td>97</td>\n",
       "      <td>2506</td>\n",
       "      <td>23.0</td>\n",
       "      <td>24.811008</td>\n",
       "    </tr>\n",
       "    <tr>\n",
       "      <th>167</th>\n",
       "      <td>75</td>\n",
       "      <td>2171</td>\n",
       "      <td>29.0</td>\n",
       "      <td>29.217414</td>\n",
       "    </tr>\n",
       "    <tr>\n",
       "      <th>356</th>\n",
       "      <td>75</td>\n",
       "      <td>2350</td>\n",
       "      <td>32.4</td>\n",
       "      <td>28.024640</td>\n",
       "    </tr>\n",
       "    <tr>\n",
       "      <th>120</th>\n",
       "      <td>112</td>\n",
       "      <td>2868</td>\n",
       "      <td>19.0</td>\n",
       "      <td>21.725834</td>\n",
       "    </tr>\n",
       "    <tr>\n",
       "      <th>385</th>\n",
       "      <td>67</td>\n",
       "      <td>1995</td>\n",
       "      <td>38.0</td>\n",
       "      <td>31.598847</td>\n",
       "    </tr>\n",
       "  </tbody>\n",
       "</table>\n",
       "</div>"
      ],
      "text/plain": [
       "     horsepower  weight   mpg  predicted_mpg\n",
       "82           97    2506  23.0      24.811008\n",
       "167          75    2171  29.0      29.217414\n",
       "356          75    2350  32.4      28.024640\n",
       "120         112    2868  19.0      21.725834\n",
       "385          67    1995  38.0      31.598847"
      ]
     },
     "execution_count": 41,
     "metadata": {},
     "output_type": "execute_result"
    }
   ],
   "source": [
    "dataset_predictions=X_test.copy()\n",
    "dataset_predictions['mpg']=y_test\n",
    "dataset_predictions['predicted_mpg']=predictions\n",
    "dataset_predictions.head()"
   ]
  },
  {
   "cell_type": "code",
   "execution_count": 42,
   "id": "31415b55",
   "metadata": {},
   "outputs": [
    {
     "data": {
      "text/html": [
       "<div>\n",
       "<style scoped>\n",
       "    .dataframe tbody tr th:only-of-type {\n",
       "        vertical-align: middle;\n",
       "    }\n",
       "\n",
       "    .dataframe tbody tr th {\n",
       "        vertical-align: top;\n",
       "    }\n",
       "\n",
       "    .dataframe thead th {\n",
       "        text-align: right;\n",
       "    }\n",
       "</style>\n",
       "<table border=\"1\" class=\"dataframe\">\n",
       "  <thead>\n",
       "    <tr style=\"text-align: right;\">\n",
       "      <th></th>\n",
       "      <th>horsepower</th>\n",
       "      <th>weight</th>\n",
       "      <th>mpg</th>\n",
       "      <th>predicted_mpg</th>\n",
       "    </tr>\n",
       "  </thead>\n",
       "  <tbody>\n",
       "    <tr>\n",
       "      <th>326</th>\n",
       "      <td>48</td>\n",
       "      <td>2335</td>\n",
       "      <td>43.4</td>\n",
       "      <td>32.670537</td>\n",
       "    </tr>\n",
       "    <tr>\n",
       "      <th>246</th>\n",
       "      <td>52</td>\n",
       "      <td>1985</td>\n",
       "      <td>32.8</td>\n",
       "      <td>34.277282</td>\n",
       "    </tr>\n",
       "    <tr>\n",
       "      <th>248</th>\n",
       "      <td>60</td>\n",
       "      <td>1800</td>\n",
       "      <td>36.1</td>\n",
       "      <td>34.339978</td>\n",
       "    </tr>\n",
       "    <tr>\n",
       "      <th>332</th>\n",
       "      <td>62</td>\n",
       "      <td>1845</td>\n",
       "      <td>29.8</td>\n",
       "      <td>33.608854</td>\n",
       "    </tr>\n",
       "    <tr>\n",
       "      <th>347</th>\n",
       "      <td>65</td>\n",
       "      <td>1975</td>\n",
       "      <td>37.0</td>\n",
       "      <td>32.054138</td>\n",
       "    </tr>\n",
       "  </tbody>\n",
       "</table>\n",
       "</div>"
      ],
      "text/plain": [
       "     horsepower  weight   mpg  predicted_mpg\n",
       "326          48    2335  43.4      32.670537\n",
       "246          52    1985  32.8      34.277282\n",
       "248          60    1800  36.1      34.339978\n",
       "332          62    1845  29.8      33.608854\n",
       "347          65    1975  37.0      32.054138"
      ]
     },
     "execution_count": 42,
     "metadata": {},
     "output_type": "execute_result"
    }
   ],
   "source": [
    "dataset_predictions2=dataset_predictions.sort_values(by='horsepower')\n",
    "dataset_predictions2.head()"
   ]
  },
  {
   "cell_type": "code",
   "execution_count": 43,
   "id": "b2f47d48",
   "metadata": {
    "scrolled": true
   },
   "outputs": [
    {
     "data": {
      "text/plain": [
       "[<mpl_toolkits.mplot3d.art3d.Line3D at 0x1c59cc91130>]"
      ]
     },
     "execution_count": 43,
     "metadata": {},
     "output_type": "execute_result"
    },
    {
     "data": {
      "image/png": "[encoded data removed]",
      "text/plain": [
       "<Figure size 432x288 with 1 Axes>"
      ]
     },
     "metadata": {
      "needs_background": "light"
     },
     "output_type": "display_data"
    }
   ],
   "source": [
    "ax = plt.axes(projection='3d')\n",
    "ax.scatter3D(dataset_predictions2['horsepower'],dataset_predictions2['weight'], dataset_predictions2['mpg'], color='blue');\n",
    "ax.plot3D(dataset_predictions2['horsepower'],dataset_predictions2['weight'], dataset_predictions2['predicted_mpg'], 'red')"
   ]
  },
  {
   "cell_type": "code",
   "execution_count": 44,
   "id": "d53a6ae8",
   "metadata": {},
   "outputs": [
    {
     "data": {
      "image/png": "[encoded data removed]",
      "text/plain": [
       "<Figure size 432x288 with 1 Axes>"
      ]
     },
     "metadata": {
      "needs_background": "light"
     },
     "output_type": "display_data"
    }
   ],
   "source": [
    "sns.scatterplot(dataset_predictions2['horsepower'], dataset_predictions2['mpg']);\n",
    "sns.lineplot(dataset_predictions2['horsepower'], dataset_predictions2['predicted_mpg'],color='red');"
   ]
  },
  {
   "cell_type": "code",
   "execution_count": 45,
   "id": "a544f0eb",
   "metadata": {},
   "outputs": [
    {
     "data": {
      "image/png": "[encoded data removed]",
      "text/plain": [
       "<Figure size 432x288 with 1 Axes>"
      ]
     },
     "metadata": {
      "needs_background": "light"
     },
     "output_type": "display_data"
    }
   ],
   "source": [
    "sns.scatterplot(dataset_predictions2['weight'], dataset_predictions2['mpg']);\n",
    "sns.lineplot(dataset_predictions2['weight'], dataset_predictions2['predicted_mpg'],color='red');"
   ]
  },
  {
   "cell_type": "code",
   "execution_count": 46,
   "id": "d1c10a77",
   "metadata": {},
   "outputs": [
    {
     "data": {
      "image/png": "[encoded data removed]",
      "text/plain": [
       "<Figure size 432x288 with 1 Axes>"
      ]
     },
     "metadata": {
      "needs_background": "light"
     },
     "output_type": "display_data"
    }
   ],
   "source": [
    "\n",
    "sns.lineplot(dataset_predictions2['horsepower'],dataset_predictions2['weight'],color='red');"
   ]
  },
  {
   "cell_type": "code",
   "execution_count": null,
   "id": "53977054",
   "metadata": {},
   "outputs": [],
   "source": []
  },
  {
   "cell_type": "code",
   "execution_count": null,
   "id": "52591abe",
   "metadata": {},
   "outputs": [],
   "source": []
  },
  {
   "cell_type": "code",
   "execution_count": null,
   "id": "463d2ec3",
   "metadata": {},
   "outputs": [],
   "source": []
  },
  {
   "cell_type": "code",
   "execution_count": null,
   "id": "09bfc769",
   "metadata": {},
   "outputs": [],
   "source": []
  },
  {
   "cell_type": "code",
   "execution_count": null,
   "id": "7795a4d4",
   "metadata": {},
   "outputs": [],
   "source": []
  }
 ],
 "metadata": {
  "kernelspec": {
   "display_name": "Python 3 (ipykernel)",
   "language": "python",
   "name": "python3"
  },
  "language_info": {
   "codemirror_mode": {
    "name": "ipython",
    "version": 3
   },
   "file_extension": ".py",
   "mimetype": "text/x-python",
   "name": "python",
   "nbconvert_exporter": "python",
   "pygments_lexer": "ipython3",
   "version": "3.9.12"
  }
 },
 "nbformat": 4,
 "nbformat_minor": 5
}
