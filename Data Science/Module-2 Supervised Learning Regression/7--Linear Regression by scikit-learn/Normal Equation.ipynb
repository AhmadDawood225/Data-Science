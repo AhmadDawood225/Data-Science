{
 "cells": [
  {
   "cell_type": "code",
   "execution_count": 1,
   "id": "2b38d741",
   "metadata": {},
   "outputs": [],
   "source": [
    "import pandas as pd\n",
    "from sklearn.linear_model import LinearRegression\n",
    "import seaborn as sns"
   ]
  },
  {
   "cell_type": "code",
   "execution_count": 2,
   "id": "0531b7af",
   "metadata": {},
   "outputs": [
    {
     "data": {
      "text/html": [
       "<div>\n",
       "<style scoped>\n",
       "    .dataframe tbody tr th:only-of-type {\n",
       "        vertical-align: middle;\n",
       "    }\n",
       "\n",
       "    .dataframe tbody tr th {\n",
       "        vertical-align: top;\n",
       "    }\n",
       "\n",
       "    .dataframe thead th {\n",
       "        text-align: right;\n",
       "    }\n",
       "</style>\n",
       "<table border=\"1\" class=\"dataframe\">\n",
       "  <thead>\n",
       "    <tr style=\"text-align: right;\">\n",
       "      <th></th>\n",
       "      <th>Area(100 sq ft)</th>\n",
       "      <th>Price(lac)</th>\n",
       "    </tr>\n",
       "  </thead>\n",
       "  <tbody>\n",
       "    <tr>\n",
       "      <th>0</th>\n",
       "      <td>26</td>\n",
       "      <td>5.50</td>\n",
       "    </tr>\n",
       "    <tr>\n",
       "      <th>1</th>\n",
       "      <td>30</td>\n",
       "      <td>5.65</td>\n",
       "    </tr>\n",
       "    <tr>\n",
       "      <th>2</th>\n",
       "      <td>32</td>\n",
       "      <td>6.10</td>\n",
       "    </tr>\n",
       "    <tr>\n",
       "      <th>3</th>\n",
       "      <td>36</td>\n",
       "      <td>6.80</td>\n",
       "    </tr>\n",
       "    <tr>\n",
       "      <th>4</th>\n",
       "      <td>40</td>\n",
       "      <td>7.25</td>\n",
       "    </tr>\n",
       "  </tbody>\n",
       "</table>\n",
       "</div>"
      ],
      "text/plain": [
       "   Area(100 sq ft)  Price(lac)\n",
       "0               26        5.50\n",
       "1               30        5.65\n",
       "2               32        6.10\n",
       "3               36        6.80\n",
       "4               40        7.25"
      ]
     },
     "execution_count": 2,
     "metadata": {},
     "output_type": "execute_result"
    }
   ],
   "source": [
    "area=[26,30,32,36,40]\n",
    "price=[5.5,5.65,6.1,6.8,7.25]\n",
    "data1=pd.DataFrame({'Area(100 sq ft)':area,'Price(lac)':price})\n",
    "data1"
   ]
  },
  {
   "cell_type": "code",
   "execution_count": 3,
   "id": "78536393",
   "metadata": {},
   "outputs": [
    {
     "data": {
      "image/png": "[encoded data removed]",
      "text/plain": [
       "<Figure size 432x288 with 1 Axes>"
      ]
     },
     "metadata": {
      "needs_background": "light"
     },
     "output_type": "display_data"
    }
   ],
   "source": [
    "sns.scatterplot(x=data1['Area(100 sq ft)'],y=data1['Price(lac)']);"
   ]
  },
  {
   "cell_type": "markdown",
   "id": "iqAqsASLCpAw",
   "metadata": {
    "id": "iqAqsASLCpAw"
   },
   "source": [
    "# Model"
   ]
  },
  {
   "cell_type": "code",
   "execution_count": null,
   "id": "e610c5e8",
   "metadata": {},
   "outputs": [],
   "source": [
    "#lr_model=LinearRegression(fit_intercept=False)   #  y = mx"
   ]
  },
  {
   "cell_type": "code",
   "execution_count": 4,
   "id": "1115e9c3",
   "metadata": {},
   "outputs": [],
   "source": [
    "lr_model=LinearRegression() # y = mx + c"
   ]
  },
  {
   "cell_type": "markdown",
   "id": "191b84af",
   "metadata": {},
   "source": [
    "### Training"
   ]
  },
  {
   "cell_type": "code",
   "execution_count": 18,
   "id": "5312efce",
   "metadata": {},
   "outputs": [
    {
     "data": {
      "text/plain": [
       "LinearRegression()"
      ]
     },
     "execution_count": 18,
     "metadata": {},
     "output_type": "execute_result"
    }
   ],
   "source": [
    "lr_model.fit(data1[['Area(100 sq ft)']],data1[['Price(lac)']])"
   ]
  },
  {
   "cell_type": "markdown",
   "id": "517509a1",
   "metadata": {},
   "source": [
    "### Training-end"
   ]
  },
  {
   "cell_type": "code",
   "execution_count": null,
   "id": "10bf6a08",
   "metadata": {},
   "outputs": [],
   "source": []
  },
  {
   "cell_type": "code",
   "execution_count": null,
   "id": "87b034d2",
   "metadata": {},
   "outputs": [],
   "source": []
  },
  {
   "cell_type": "code",
   "execution_count": 19,
   "id": "5eb04586",
   "metadata": {},
   "outputs": [
    {
     "data": {
      "text/plain": [
       "array([[0.13578767]])"
      ]
     },
     "execution_count": 19,
     "metadata": {},
     "output_type": "execute_result"
    }
   ],
   "source": [
    "lr_model.coef_"
   ]
  },
  {
   "cell_type": "code",
   "execution_count": 20,
   "id": "77493142",
   "metadata": {},
   "outputs": [
    {
     "data": {
      "text/plain": [
       "array([1.80616438])"
      ]
     },
     "execution_count": 20,
     "metadata": {},
     "output_type": "execute_result"
    }
   ],
   "source": [
    "lr_model.intercept_"
   ]
  },
  {
   "cell_type": "code",
   "execution_count": 17,
   "id": "1282685c",
   "metadata": {},
   "outputs": [
    {
     "data": {
      "text/plain": [
       "1"
      ]
     },
     "execution_count": 17,
     "metadata": {},
     "output_type": "execute_result"
    }
   ],
   "source": [
    "lr_model.n_features_in_"
   ]
  },
  {
   "cell_type": "code",
   "execution_count": 21,
   "id": "dec78578",
   "metadata": {},
   "outputs": [
    {
     "data": {
      "text/plain": [
       "array(['Area(100 sq ft)'], dtype=object)"
      ]
     },
     "execution_count": 21,
     "metadata": {},
     "output_type": "execute_result"
    }
   ],
   "source": [
    "lr_model.feature_names_in_"
   ]
  },
  {
   "cell_type": "code",
   "execution_count": 8,
   "id": "2d0613d8",
   "metadata": {},
   "outputs": [],
   "source": [
    "m=lr_model.coef_[0]\n",
    "c=lr_model.intercept_"
   ]
  },
  {
   "cell_type": "code",
   "execution_count": 9,
   "id": "dc27264b",
   "metadata": {
    "scrolled": true
   },
   "outputs": [
    {
     "data": {
      "image/png": "[encoded data removed]",
      "text/plain": [
       "<Figure size 432x288 with 1 Axes>"
      ]
     },
     "metadata": {
      "needs_background": "light"
     },
     "output_type": "display_data"
    }
   ],
   "source": [
    "sns.scatterplot(x=data1['Area(100 sq ft)'],y=data1['Price(lac)']);\n",
    "sns.lineplot(x=data1['Area(100 sq ft)'],y=data1['Area(100 sq ft)']*m+c,color='red');"
   ]
  },
  {
   "cell_type": "markdown",
   "id": "ac813a8a",
   "metadata": {},
   "source": [
    "### Testing/Prediction"
   ]
  },
  {
   "cell_type": "code",
   "execution_count": 10,
   "id": "746edefa",
   "metadata": {},
   "outputs": [
    {
     "data": {
      "text/plain": [
       "array([[5.33664384],\n",
       "       [5.87979452],\n",
       "       [6.15136986],\n",
       "       [6.69452055],\n",
       "       [7.23767123]])"
      ]
     },
     "execution_count": 10,
     "metadata": {},
     "output_type": "execute_result"
    }
   ],
   "source": [
    "predicted_price=lr_model.predict(data1[['Area(100 sq ft)']])\n",
    "predicted_price"
   ]
  },
  {
   "cell_type": "code",
   "execution_count": 11,
   "id": "3635a418",
   "metadata": {},
   "outputs": [],
   "source": [
    "data2=data1.copy()"
   ]
  },
  {
   "cell_type": "code",
   "execution_count": 12,
   "id": "093a3766",
   "metadata": {},
   "outputs": [],
   "source": [
    "data2['predicted_price']=predicted_price"
   ]
  },
  {
   "cell_type": "code",
   "execution_count": 13,
   "id": "63bd5084",
   "metadata": {},
   "outputs": [
    {
     "data": {
      "text/html": [
       "<div>\n",
       "<style scoped>\n",
       "    .dataframe tbody tr th:only-of-type {\n",
       "        vertical-align: middle;\n",
       "    }\n",
       "\n",
       "    .dataframe tbody tr th {\n",
       "        vertical-align: top;\n",
       "    }\n",
       "\n",
       "    .dataframe thead th {\n",
       "        text-align: right;\n",
       "    }\n",
       "</style>\n",
       "<table border=\"1\" class=\"dataframe\">\n",
       "  <thead>\n",
       "    <tr style=\"text-align: right;\">\n",
       "      <th></th>\n",
       "      <th>Area(100 sq ft)</th>\n",
       "      <th>Price(lac)</th>\n",
       "      <th>predicted_price</th>\n",
       "    </tr>\n",
       "  </thead>\n",
       "  <tbody>\n",
       "    <tr>\n",
       "      <th>0</th>\n",
       "      <td>26</td>\n",
       "      <td>5.50</td>\n",
       "      <td>5.336644</td>\n",
       "    </tr>\n",
       "    <tr>\n",
       "      <th>1</th>\n",
       "      <td>30</td>\n",
       "      <td>5.65</td>\n",
       "      <td>5.879795</td>\n",
       "    </tr>\n",
       "    <tr>\n",
       "      <th>2</th>\n",
       "      <td>32</td>\n",
       "      <td>6.10</td>\n",
       "      <td>6.151370</td>\n",
       "    </tr>\n",
       "    <tr>\n",
       "      <th>3</th>\n",
       "      <td>36</td>\n",
       "      <td>6.80</td>\n",
       "      <td>6.694521</td>\n",
       "    </tr>\n",
       "    <tr>\n",
       "      <th>4</th>\n",
       "      <td>40</td>\n",
       "      <td>7.25</td>\n",
       "      <td>7.237671</td>\n",
       "    </tr>\n",
       "  </tbody>\n",
       "</table>\n",
       "</div>"
      ],
      "text/plain": [
       "   Area(100 sq ft)  Price(lac)  predicted_price\n",
       "0               26        5.50         5.336644\n",
       "1               30        5.65         5.879795\n",
       "2               32        6.10         6.151370\n",
       "3               36        6.80         6.694521\n",
       "4               40        7.25         7.237671"
      ]
     },
     "execution_count": 13,
     "metadata": {},
     "output_type": "execute_result"
    }
   ],
   "source": [
    "data2"
   ]
  }
 ],
 "metadata": {
  "kernelspec": {
   "display_name": "Python 3 (ipykernel)",
   "language": "python",
   "name": "python3"
  },
  "language_info": {
   "codemirror_mode": {
    "name": "ipython",
    "version": 3
   },
   "file_extension": ".py",
   "mimetype": "text/x-python",
   "name": "python",
   "nbconvert_exporter": "python",
   "pygments_lexer": "ipython3",
   "version": "3.9.12"
  }
 },
 "nbformat": 4,
 "nbformat_minor": 5
}
