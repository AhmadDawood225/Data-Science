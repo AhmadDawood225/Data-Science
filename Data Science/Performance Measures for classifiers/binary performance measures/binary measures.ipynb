{
 "cells": [
  {
   "cell_type": "code",
   "execution_count": 1,
   "id": "ea2c27e7",
   "metadata": {},
   "outputs": [],
   "source": [
    "import pandas as pd\n",
    "from sklearn.metrics import confusion_matrix\n",
    "from sklearn.preprocessing import binarize\n",
    "from sklearn.metrics import precision_score, recall_score\n",
    "import numpy as np\n",
    "import warnings\n",
    "warnings.filterwarnings('ignore')\n",
    "from sklearn.metrics import precision_recall_curve\n",
    "from sklearn.metrics import roc_curve\n",
    "import matplotlib.pyplot as plt\n",
    "import seaborn as sns"
   ]
  },
  {
   "cell_type": "code",
   "execution_count": 2,
   "id": "f1e2d2cc",
   "metadata": {},
   "outputs": [],
   "source": [
    "from sklearn.metrics import f1_score"
   ]
  },
  {
   "cell_type": "code",
   "execution_count": 3,
   "id": "481274cc",
   "metadata": {},
   "outputs": [
    {
     "data": {
      "text/html": [
       "<div>\n",
       "<style scoped>\n",
       "    .dataframe tbody tr th:only-of-type {\n",
       "        vertical-align: middle;\n",
       "    }\n",
       "\n",
       "    .dataframe tbody tr th {\n",
       "        vertical-align: top;\n",
       "    }\n",
       "\n",
       "    .dataframe thead th {\n",
       "        text-align: right;\n",
       "    }\n",
       "</style>\n",
       "<table border=\"1\" class=\"dataframe\">\n",
       "  <thead>\n",
       "    <tr style=\"text-align: right;\">\n",
       "      <th></th>\n",
       "      <th>True_values</th>\n",
       "      <th>predictions</th>\n",
       "      <th>probability_class-1</th>\n",
       "    </tr>\n",
       "  </thead>\n",
       "  <tbody>\n",
       "    <tr>\n",
       "      <th>0</th>\n",
       "      <td>1</td>\n",
       "      <td>0</td>\n",
       "      <td>0.309667</td>\n",
       "    </tr>\n",
       "    <tr>\n",
       "      <th>1</th>\n",
       "      <td>0</td>\n",
       "      <td>0</td>\n",
       "      <td>0.309400</td>\n",
       "    </tr>\n",
       "    <tr>\n",
       "      <th>2</th>\n",
       "      <td>0</td>\n",
       "      <td>0</td>\n",
       "      <td>0.331222</td>\n",
       "    </tr>\n",
       "    <tr>\n",
       "      <th>3</th>\n",
       "      <td>0</td>\n",
       "      <td>0</td>\n",
       "      <td>0.223313</td>\n",
       "    </tr>\n",
       "    <tr>\n",
       "      <th>4</th>\n",
       "      <td>0</td>\n",
       "      <td>0</td>\n",
       "      <td>0.392808</td>\n",
       "    </tr>\n",
       "    <tr>\n",
       "      <th>...</th>\n",
       "      <td>...</td>\n",
       "      <td>...</td>\n",
       "      <td>...</td>\n",
       "    </tr>\n",
       "    <tr>\n",
       "      <th>295</th>\n",
       "      <td>0</td>\n",
       "      <td>1</td>\n",
       "      <td>0.556403</td>\n",
       "    </tr>\n",
       "    <tr>\n",
       "      <th>296</th>\n",
       "      <td>1</td>\n",
       "      <td>0</td>\n",
       "      <td>0.216073</td>\n",
       "    </tr>\n",
       "    <tr>\n",
       "      <th>297</th>\n",
       "      <td>0</td>\n",
       "      <td>0</td>\n",
       "      <td>0.250823</td>\n",
       "    </tr>\n",
       "    <tr>\n",
       "      <th>298</th>\n",
       "      <td>0</td>\n",
       "      <td>0</td>\n",
       "      <td>0.467169</td>\n",
       "    </tr>\n",
       "    <tr>\n",
       "      <th>299</th>\n",
       "      <td>1</td>\n",
       "      <td>0</td>\n",
       "      <td>0.454642</td>\n",
       "    </tr>\n",
       "  </tbody>\n",
       "</table>\n",
       "<p>300 rows × 3 columns</p>\n",
       "</div>"
      ],
      "text/plain": [
       "     True_values  predictions  probability_class-1\n",
       "0              1            0             0.309667\n",
       "1              0            0             0.309400\n",
       "2              0            0             0.331222\n",
       "3              0            0             0.223313\n",
       "4              0            0             0.392808\n",
       "..           ...          ...                  ...\n",
       "295            0            1             0.556403\n",
       "296            1            0             0.216073\n",
       "297            0            0             0.250823\n",
       "298            0            0             0.467169\n",
       "299            1            0             0.454642\n",
       "\n",
       "[300 rows x 3 columns]"
      ]
     },
     "execution_count": 3,
     "metadata": {},
     "output_type": "execute_result"
    }
   ],
   "source": [
    "df1=pd.read_csv('precision_recall.csv')\n",
    "df1"
   ]
  },
  {
   "cell_type": "code",
   "execution_count": 4,
   "id": "b1e7d2d4",
   "metadata": {},
   "outputs": [
    {
     "name": "stdout",
     "output_type": "stream",
     "text": [
      "[[185  24]\n",
      " [ 76  15]]\n"
     ]
    }
   ],
   "source": [
    "print(confusion_matrix(df1['True_values'], df1['predictions']))"
   ]
  },
  {
   "cell_type": "code",
   "execution_count": 5,
   "id": "c2fa5913",
   "metadata": {},
   "outputs": [
    {
     "data": {
      "text/plain": [
       "0    209\n",
       "1     91\n",
       "Name: True_values, dtype: int64"
      ]
     },
     "execution_count": 5,
     "metadata": {},
     "output_type": "execute_result"
    }
   ],
   "source": [
    "df1['True_values'].value_counts()"
   ]
  },
  {
   "cell_type": "code",
   "execution_count": 6,
   "id": "89903263",
   "metadata": {},
   "outputs": [
    {
     "data": {
      "text/plain": [
       "0    261\n",
       "1     39\n",
       "Name: predictions, dtype: int64"
      ]
     },
     "execution_count": 6,
     "metadata": {},
     "output_type": "execute_result"
    }
   ],
   "source": [
    "df1['predictions'].value_counts()"
   ]
  },
  {
   "cell_type": "code",
   "execution_count": 7,
   "id": "ac9ae1f7",
   "metadata": {},
   "outputs": [
    {
     "data": {
      "text/plain": [
       "0.16483516483516483"
      ]
     },
     "execution_count": 7,
     "metadata": {},
     "output_type": "execute_result"
    }
   ],
   "source": [
    "recall_score(df1['True_values'], df1['predictions'])"
   ]
  },
  {
   "cell_type": "code",
   "execution_count": 8,
   "id": "95ebbb40",
   "metadata": {},
   "outputs": [
    {
     "data": {
      "text/plain": [
       "0.38461538461538464"
      ]
     },
     "execution_count": 8,
     "metadata": {},
     "output_type": "execute_result"
    }
   ],
   "source": [
    "precision_score(df1['True_values'], df1['predictions'])"
   ]
  },
  {
   "cell_type": "code",
   "execution_count": 9,
   "id": "833ed08c",
   "metadata": {},
   "outputs": [
    {
     "data": {
      "text/plain": [
       "0.23076923076923078"
      ]
     },
     "execution_count": 9,
     "metadata": {},
     "output_type": "execute_result"
    }
   ],
   "source": [
    "f1_score(df1['True_values'], df1['predictions'])"
   ]
  },
  {
   "cell_type": "code",
   "execution_count": 10,
   "id": "b405c43b",
   "metadata": {},
   "outputs": [
    {
     "data": {
      "text/plain": [
       "0.23076923076923078"
      ]
     },
     "execution_count": 10,
     "metadata": {},
     "output_type": "execute_result"
    }
   ],
   "source": [
    "(2*(0.16483516483516483)*(0.38461538461538464))/((0.16483516483516483)+(0.38461538461538464))"
   ]
  },
  {
   "cell_type": "code",
   "execution_count": null,
   "id": "dab42edf",
   "metadata": {},
   "outputs": [],
   "source": []
  },
  {
   "cell_type": "code",
   "execution_count": 11,
   "id": "7365fc15",
   "metadata": {},
   "outputs": [],
   "source": [
    "from sklearn.metrics import matthews_corrcoef"
   ]
  },
  {
   "cell_type": "code",
   "execution_count": 12,
   "id": "cc61cfe2",
   "metadata": {},
   "outputs": [
    {
     "data": {
      "text/plain": [
       "0.06834930778140061"
      ]
     },
     "execution_count": 12,
     "metadata": {},
     "output_type": "execute_result"
    }
   ],
   "source": [
    "matthews_corrcoef(df1['True_values'], df1['predictions'])"
   ]
  },
  {
   "cell_type": "code",
   "execution_count": null,
   "id": "b636c6f4",
   "metadata": {},
   "outputs": [],
   "source": []
  },
  {
   "cell_type": "code",
   "execution_count": null,
   "id": "93cc1a17",
   "metadata": {},
   "outputs": [],
   "source": []
  },
  {
   "cell_type": "code",
   "execution_count": null,
   "id": "7b629f53",
   "metadata": {},
   "outputs": [],
   "source": []
  },
  {
   "cell_type": "code",
   "execution_count": null,
   "id": "d65ed1a7",
   "metadata": {},
   "outputs": [],
   "source": []
  },
  {
   "cell_type": "code",
   "execution_count": null,
   "id": "09a055c3",
   "metadata": {},
   "outputs": [],
   "source": []
  },
  {
   "cell_type": "code",
   "execution_count": null,
   "id": "24fc2737",
   "metadata": {},
   "outputs": [],
   "source": []
  },
  {
   "cell_type": "code",
   "execution_count": 13,
   "id": "2f02d205",
   "metadata": {},
   "outputs": [
    {
     "name": "stdout",
     "output_type": "stream",
     "text": [
      "***************Default Threshold=0.5***************\n",
      "[[185  24]\n",
      " [ 76  15]]\n",
      "Precision = 0.38\n",
      "Recall = 0.16\n"
     ]
    }
   ],
   "source": [
    "print(\"***************Default Threshold=0.5***************\")\n",
    "print(confusion_matrix(df1['True_values'], df1['predictions']))\n",
    "print('Precision =',np.round(precision_score(df1['True_values'], df1['predictions']),2))\n",
    "print('Recall =',np.round(recall_score(df1['True_values'], df1['predictions']),2))"
   ]
  },
  {
   "cell_type": "code",
   "execution_count": null,
   "id": "33c9eb0b",
   "metadata": {},
   "outputs": [],
   "source": []
  },
  {
   "cell_type": "code",
   "execution_count": null,
   "id": "7e4dd9d9",
   "metadata": {},
   "outputs": [],
   "source": []
  },
  {
   "cell_type": "code",
   "execution_count": 14,
   "id": "178b75f8",
   "metadata": {},
   "outputs": [
    {
     "data": {
      "text/plain": [
       "array([[0.],\n",
       "       [0.],\n",
       "       [0.],\n",
       "       [0.],\n",
       "       [0.],\n",
       "       [0.],\n",
       "       [0.],\n",
       "       [0.],\n",
       "       [0.],\n",
       "       [0.],\n",
       "       [0.],\n",
       "       [0.],\n",
       "       [0.],\n",
       "       [1.],\n",
       "       [1.],\n",
       "       [0.],\n",
       "       [0.],\n",
       "       [0.],\n",
       "       [1.],\n",
       "       [0.],\n",
       "       [1.],\n",
       "       [1.],\n",
       "       [0.],\n",
       "       [0.],\n",
       "       [0.],\n",
       "       [0.],\n",
       "       [0.],\n",
       "       [1.],\n",
       "       [1.],\n",
       "       [0.],\n",
       "       [0.],\n",
       "       [0.],\n",
       "       [0.],\n",
       "       [0.],\n",
       "       [0.],\n",
       "       [1.],\n",
       "       [1.],\n",
       "       [0.],\n",
       "       [0.],\n",
       "       [1.],\n",
       "       [0.],\n",
       "       [0.],\n",
       "       [0.],\n",
       "       [0.],\n",
       "       [0.],\n",
       "       [0.],\n",
       "       [0.],\n",
       "       [0.],\n",
       "       [0.],\n",
       "       [0.],\n",
       "       [1.],\n",
       "       [0.],\n",
       "       [0.],\n",
       "       [1.],\n",
       "       [0.],\n",
       "       [0.],\n",
       "       [0.],\n",
       "       [1.],\n",
       "       [1.],\n",
       "       [0.],\n",
       "       [1.],\n",
       "       [0.],\n",
       "       [0.],\n",
       "       [0.],\n",
       "       [0.],\n",
       "       [0.],\n",
       "       [0.],\n",
       "       [0.],\n",
       "       [1.],\n",
       "       [0.],\n",
       "       [0.],\n",
       "       [0.],\n",
       "       [0.],\n",
       "       [0.],\n",
       "       [1.],\n",
       "       [0.],\n",
       "       [0.],\n",
       "       [0.],\n",
       "       [0.],\n",
       "       [0.],\n",
       "       [0.],\n",
       "       [0.],\n",
       "       [0.],\n",
       "       [0.],\n",
       "       [0.],\n",
       "       [0.],\n",
       "       [1.],\n",
       "       [1.],\n",
       "       [0.],\n",
       "       [0.],\n",
       "       [1.],\n",
       "       [0.],\n",
       "       [1.],\n",
       "       [1.],\n",
       "       [0.],\n",
       "       [0.],\n",
       "       [0.],\n",
       "       [0.],\n",
       "       [1.],\n",
       "       [1.],\n",
       "       [0.],\n",
       "       [0.],\n",
       "       [0.],\n",
       "       [0.],\n",
       "       [0.],\n",
       "       [0.],\n",
       "       [0.],\n",
       "       [1.],\n",
       "       [1.],\n",
       "       [0.],\n",
       "       [0.],\n",
       "       [0.],\n",
       "       [1.],\n",
       "       [0.],\n",
       "       [0.],\n",
       "       [0.],\n",
       "       [0.],\n",
       "       [0.],\n",
       "       [0.],\n",
       "       [0.],\n",
       "       [0.],\n",
       "       [1.],\n",
       "       [0.],\n",
       "       [0.],\n",
       "       [0.],\n",
       "       [0.],\n",
       "       [1.],\n",
       "       [1.],\n",
       "       [0.],\n",
       "       [1.],\n",
       "       [1.],\n",
       "       [0.],\n",
       "       [0.],\n",
       "       [0.],\n",
       "       [0.],\n",
       "       [0.],\n",
       "       [0.],\n",
       "       [0.],\n",
       "       [0.],\n",
       "       [0.],\n",
       "       [1.],\n",
       "       [0.],\n",
       "       [0.],\n",
       "       [0.],\n",
       "       [0.],\n",
       "       [1.],\n",
       "       [0.],\n",
       "       [0.],\n",
       "       [0.],\n",
       "       [0.],\n",
       "       [0.],\n",
       "       [0.],\n",
       "       [0.],\n",
       "       [1.],\n",
       "       [0.],\n",
       "       [0.],\n",
       "       [0.],\n",
       "       [0.],\n",
       "       [0.],\n",
       "       [0.],\n",
       "       [0.],\n",
       "       [0.],\n",
       "       [0.],\n",
       "       [1.],\n",
       "       [0.],\n",
       "       [0.],\n",
       "       [0.],\n",
       "       [0.],\n",
       "       [0.],\n",
       "       [1.],\n",
       "       [0.],\n",
       "       [0.],\n",
       "       [0.],\n",
       "       [0.],\n",
       "       [0.],\n",
       "       [0.],\n",
       "       [0.],\n",
       "       [0.],\n",
       "       [0.],\n",
       "       [1.],\n",
       "       [0.],\n",
       "       [0.],\n",
       "       [0.],\n",
       "       [0.],\n",
       "       [0.],\n",
       "       [0.],\n",
       "       [0.],\n",
       "       [0.],\n",
       "       [0.],\n",
       "       [0.],\n",
       "       [0.],\n",
       "       [1.],\n",
       "       [0.],\n",
       "       [0.],\n",
       "       [0.],\n",
       "       [0.],\n",
       "       [1.],\n",
       "       [1.],\n",
       "       [1.],\n",
       "       [1.],\n",
       "       [0.],\n",
       "       [1.],\n",
       "       [0.],\n",
       "       [0.],\n",
       "       [0.],\n",
       "       [1.],\n",
       "       [0.],\n",
       "       [0.],\n",
       "       [0.],\n",
       "       [0.],\n",
       "       [0.],\n",
       "       [0.],\n",
       "       [0.],\n",
       "       [0.],\n",
       "       [1.],\n",
       "       [1.],\n",
       "       [0.],\n",
       "       [1.],\n",
       "       [1.],\n",
       "       [0.],\n",
       "       [0.],\n",
       "       [0.],\n",
       "       [0.],\n",
       "       [0.],\n",
       "       [0.],\n",
       "       [0.],\n",
       "       [0.],\n",
       "       [1.],\n",
       "       [0.],\n",
       "       [0.],\n",
       "       [0.],\n",
       "       [0.],\n",
       "       [0.],\n",
       "       [0.],\n",
       "       [0.],\n",
       "       [0.],\n",
       "       [0.],\n",
       "       [0.],\n",
       "       [0.],\n",
       "       [1.],\n",
       "       [1.],\n",
       "       [0.],\n",
       "       [0.],\n",
       "       [0.],\n",
       "       [1.],\n",
       "       [0.],\n",
       "       [0.],\n",
       "       [0.],\n",
       "       [0.],\n",
       "       [1.],\n",
       "       [1.],\n",
       "       [0.],\n",
       "       [1.],\n",
       "       [0.],\n",
       "       [0.],\n",
       "       [0.],\n",
       "       [0.],\n",
       "       [0.],\n",
       "       [0.],\n",
       "       [1.],\n",
       "       [1.],\n",
       "       [0.],\n",
       "       [0.],\n",
       "       [0.],\n",
       "       [0.],\n",
       "       [0.],\n",
       "       [0.],\n",
       "       [0.],\n",
       "       [0.],\n",
       "       [1.],\n",
       "       [0.],\n",
       "       [0.],\n",
       "       [0.],\n",
       "       [0.],\n",
       "       [1.],\n",
       "       [0.],\n",
       "       [0.],\n",
       "       [1.],\n",
       "       [0.],\n",
       "       [0.],\n",
       "       [0.],\n",
       "       [1.],\n",
       "       [0.],\n",
       "       [0.],\n",
       "       [0.],\n",
       "       [0.],\n",
       "       [1.],\n",
       "       [0.],\n",
       "       [0.],\n",
       "       [0.],\n",
       "       [0.],\n",
       "       [0.],\n",
       "       [1.],\n",
       "       [0.],\n",
       "       [0.],\n",
       "       [1.],\n",
       "       [0.],\n",
       "       [0.],\n",
       "       [1.],\n",
       "       [1.]])"
      ]
     },
     "execution_count": 14,
     "metadata": {},
     "output_type": "execute_result"
    }
   ],
   "source": [
    "y_pred=binarize(df1[['probability_class-1']],threshold=0.4)\n",
    "y_pred"
   ]
  },
  {
   "cell_type": "code",
   "execution_count": null,
   "id": "2f82183e",
   "metadata": {},
   "outputs": [],
   "source": []
  },
  {
   "cell_type": "code",
   "execution_count": 15,
   "id": "af530f9e",
   "metadata": {},
   "outputs": [],
   "source": [
    "def precision_recall(t):\n",
    "    y_pred=binarize(df1[['probability_class-1']],threshold=t)\n",
    "    print(f\"*************** Threshold={t} ***************\")\n",
    "    print(confusion_matrix(df1['True_values'], y_pred.flatten()))\n",
    "    print('Precision =',np.round(precision_score(df1['True_values'], y_pred.flatten()),2))\n",
    "    print('Recall =',np.round(recall_score(df1['True_values'], y_pred.flatten()),2))"
   ]
  },
  {
   "cell_type": "code",
   "execution_count": 16,
   "id": "7e2324ba",
   "metadata": {},
   "outputs": [
    {
     "name": "stdout",
     "output_type": "stream",
     "text": [
      "*************** Threshold=0.1 ***************\n",
      "[[ 14 195]\n",
      " [  5  86]]\n",
      "Precision = 0.31\n",
      "Recall = 0.95\n",
      "*************** Threshold=0.2 ***************\n",
      "[[ 78 131]\n",
      " [ 20  71]]\n",
      "Precision = 0.35\n",
      "Recall = 0.78\n",
      "*************** Threshold=0.3 ***************\n",
      "[[134  75]\n",
      " [ 42  49]]\n",
      "Precision = 0.4\n",
      "Recall = 0.54\n",
      "*************** Threshold=0.4 ***************\n",
      "[[172  37]\n",
      " [ 61  30]]\n",
      "Precision = 0.45\n",
      "Recall = 0.33\n",
      "*************** Threshold=0.5 ***************\n",
      "[[185  24]\n",
      " [ 76  15]]\n",
      "Precision = 0.38\n",
      "Recall = 0.16\n",
      "*************** Threshold=0.6 ***************\n",
      "[[201   8]\n",
      " [ 83   8]]\n",
      "Precision = 0.5\n",
      "Recall = 0.09\n",
      "*************** Threshold=0.7 ***************\n",
      "[[209   0]\n",
      " [ 88   3]]\n",
      "Precision = 1.0\n",
      "Recall = 0.03\n",
      "*************** Threshold=0.8 ***************\n",
      "[[209   0]\n",
      " [ 91   0]]\n",
      "Precision = 0.0\n",
      "Recall = 0.0\n",
      "*************** Threshold=0.9 ***************\n",
      "[[209   0]\n",
      " [ 91   0]]\n",
      "Precision = 0.0\n",
      "Recall = 0.0\n",
      "*************** Threshold=1.0 ***************\n",
      "[[209   0]\n",
      " [ 91   0]]\n",
      "Precision = 0.0\n",
      "Recall = 0.0\n"
     ]
    }
   ],
   "source": [
    "for i in range(10):\n",
    "    precision_recall((i+1)/10)"
   ]
  },
  {
   "cell_type": "code",
   "execution_count": null,
   "id": "9c83d983",
   "metadata": {},
   "outputs": [],
   "source": []
  },
  {
   "cell_type": "markdown",
   "id": "c393ad28",
   "metadata": {},
   "source": [
    "# precision_recall curve"
   ]
  },
  {
   "cell_type": "code",
   "execution_count": 17,
   "id": "5e3df97f",
   "metadata": {},
   "outputs": [],
   "source": [
    "precisions, recalls, thresholds = precision_recall_curve(df1['True_values'], df1['probability_class-1'])"
   ]
  },
  {
   "cell_type": "code",
   "execution_count": 18,
   "id": "fee6dcfe",
   "metadata": {},
   "outputs": [
    {
     "data": {
      "text/plain": [
       "301"
      ]
     },
     "execution_count": 18,
     "metadata": {},
     "output_type": "execute_result"
    }
   ],
   "source": [
    "len(recalls)"
   ]
  },
  {
   "cell_type": "code",
   "execution_count": 19,
   "id": "a74ef983",
   "metadata": {},
   "outputs": [
    {
     "data": {
      "text/plain": [
       "array([1.        , 0.98901099, 0.97802198, 0.97802198, 0.97802198,\n",
       "       0.97802198, 0.97802198, 0.97802198, 0.97802198, 0.97802198,\n",
       "       0.97802198, 0.96703297, 0.96703297, 0.95604396, 0.95604396,\n",
       "       0.95604396, 0.95604396, 0.94505495, 0.94505495, 0.94505495,\n",
       "       0.94505495, 0.94505495, 0.93406593, 0.93406593, 0.93406593,\n",
       "       0.93406593, 0.93406593, 0.93406593, 0.93406593, 0.92307692,\n",
       "       0.92307692, 0.92307692, 0.91208791, 0.91208791, 0.91208791,\n",
       "       0.91208791, 0.91208791, 0.91208791, 0.9010989 , 0.9010989 ,\n",
       "       0.9010989 , 0.9010989 , 0.9010989 , 0.9010989 , 0.9010989 ,\n",
       "       0.9010989 , 0.9010989 , 0.9010989 , 0.9010989 , 0.9010989 ,\n",
       "       0.9010989 , 0.9010989 , 0.9010989 , 0.9010989 , 0.9010989 ,\n",
       "       0.89010989, 0.89010989, 0.89010989, 0.89010989, 0.89010989,\n",
       "       0.87912088, 0.86813187, 0.86813187, 0.86813187, 0.86813187,\n",
       "       0.86813187, 0.85714286, 0.85714286, 0.84615385, 0.83516484,\n",
       "       0.83516484, 0.83516484, 0.83516484, 0.83516484, 0.82417582,\n",
       "       0.82417582, 0.81318681, 0.8021978 , 0.8021978 , 0.8021978 ,\n",
       "       0.8021978 , 0.8021978 , 0.8021978 , 0.79120879, 0.78021978,\n",
       "       0.78021978, 0.78021978, 0.78021978, 0.78021978, 0.78021978,\n",
       "       0.78021978, 0.78021978, 0.78021978, 0.78021978, 0.78021978,\n",
       "       0.78021978, 0.78021978, 0.78021978, 0.78021978, 0.78021978,\n",
       "       0.78021978, 0.78021978, 0.78021978, 0.76923077, 0.76923077,\n",
       "       0.76923077, 0.76923077, 0.76923077, 0.75824176, 0.75824176,\n",
       "       0.75824176, 0.74725275, 0.74725275, 0.74725275, 0.74725275,\n",
       "       0.74725275, 0.73626374, 0.72527473, 0.71428571, 0.7032967 ,\n",
       "       0.7032967 , 0.7032967 , 0.7032967 , 0.69230769, 0.69230769,\n",
       "       0.69230769, 0.69230769, 0.68131868, 0.68131868, 0.68131868,\n",
       "       0.68131868, 0.67032967, 0.67032967, 0.67032967, 0.67032967,\n",
       "       0.65934066, 0.65934066, 0.65934066, 0.65934066, 0.65934066,\n",
       "       0.65934066, 0.65934066, 0.65934066, 0.65934066, 0.65934066,\n",
       "       0.65934066, 0.65934066, 0.64835165, 0.64835165, 0.64835165,\n",
       "       0.64835165, 0.64835165, 0.64835165, 0.63736264, 0.63736264,\n",
       "       0.63736264, 0.63736264, 0.62637363, 0.62637363, 0.61538462,\n",
       "       0.61538462, 0.6043956 , 0.6043956 , 0.6043956 , 0.6043956 ,\n",
       "       0.6043956 , 0.59340659, 0.59340659, 0.58241758, 0.58241758,\n",
       "       0.57142857, 0.57142857, 0.57142857, 0.56043956, 0.54945055,\n",
       "       0.53846154, 0.53846154, 0.53846154, 0.53846154, 0.53846154,\n",
       "       0.53846154, 0.53846154, 0.52747253, 0.51648352, 0.51648352,\n",
       "       0.50549451, 0.50549451, 0.50549451, 0.50549451, 0.49450549,\n",
       "       0.49450549, 0.49450549, 0.49450549, 0.49450549, 0.49450549,\n",
       "       0.49450549, 0.48351648, 0.48351648, 0.48351648, 0.47252747,\n",
       "       0.47252747, 0.46153846, 0.46153846, 0.46153846, 0.46153846,\n",
       "       0.46153846, 0.45054945, 0.43956044, 0.42857143, 0.41758242,\n",
       "       0.40659341, 0.40659341, 0.40659341, 0.40659341, 0.3956044 ,\n",
       "       0.3956044 , 0.38461538, 0.38461538, 0.37362637, 0.37362637,\n",
       "       0.37362637, 0.36263736, 0.35164835, 0.35164835, 0.34065934,\n",
       "       0.34065934, 0.34065934, 0.32967033, 0.32967033, 0.32967033,\n",
       "       0.32967033, 0.32967033, 0.32967033, 0.32967033, 0.31868132,\n",
       "       0.31868132, 0.30769231, 0.2967033 , 0.28571429, 0.28571429,\n",
       "       0.28571429, 0.27472527, 0.27472527, 0.26373626, 0.26373626,\n",
       "       0.26373626, 0.26373626, 0.25274725, 0.24175824, 0.24175824,\n",
       "       0.23076923, 0.23076923, 0.21978022, 0.20879121, 0.20879121,\n",
       "       0.1978022 , 0.1978022 , 0.18681319, 0.17582418, 0.17582418,\n",
       "       0.16483516, 0.16483516, 0.16483516, 0.16483516, 0.16483516,\n",
       "       0.16483516, 0.16483516, 0.16483516, 0.15384615, 0.15384615,\n",
       "       0.15384615, 0.15384615, 0.15384615, 0.15384615, 0.15384615,\n",
       "       0.15384615, 0.15384615, 0.14285714, 0.13186813, 0.13186813,\n",
       "       0.12087912, 0.12087912, 0.10989011, 0.0989011 , 0.08791209,\n",
       "       0.08791209, 0.07692308, 0.07692308, 0.06593407, 0.06593407,\n",
       "       0.06593407, 0.05494505, 0.05494505, 0.04395604, 0.04395604,\n",
       "       0.04395604, 0.04395604, 0.03296703, 0.02197802, 0.01098901,\n",
       "       0.        ])"
      ]
     },
     "execution_count": 19,
     "metadata": {},
     "output_type": "execute_result"
    }
   ],
   "source": [
    "recalls"
   ]
  },
  {
   "cell_type": "code",
   "execution_count": 20,
   "id": "0f0adacc",
   "metadata": {},
   "outputs": [
    {
     "data": {
      "text/plain": [
       "301"
      ]
     },
     "execution_count": 20,
     "metadata": {},
     "output_type": "execute_result"
    }
   ],
   "source": [
    "len(recalls)"
   ]
  },
  {
   "cell_type": "code",
   "execution_count": null,
   "id": "96a1a52f",
   "metadata": {},
   "outputs": [],
   "source": []
  },
  {
   "cell_type": "code",
   "execution_count": 21,
   "id": "3c7732df",
   "metadata": {},
   "outputs": [],
   "source": [
    "def plot_precision_recall_vs_threshold(precisions, recalls, thresholds):\n",
    "    plt.title('Precision_Recall Curve')\n",
    "    sns.lineplot(thresholds, precisions[:-1],label='precisions');\n",
    "    sns.lineplot(thresholds, recalls[:-1],label='recalls');\n",
    "    plt.xlabel('Threshold')\n",
    "    plt.legend();\n",
    "\n"
   ]
  },
  {
   "cell_type": "code",
   "execution_count": 22,
   "id": "b3135155",
   "metadata": {},
   "outputs": [
    {
     "data": {
      "image/png": "[encoded data removed]",
      "text/plain": [
       "<Figure size 432x288 with 1 Axes>"
      ]
     },
     "metadata": {
      "needs_background": "light"
     },
     "output_type": "display_data"
    }
   ],
   "source": [
    "plot_precision_recall_vs_threshold(precisions, recalls, thresholds)"
   ]
  },
  {
   "cell_type": "code",
   "execution_count": 23,
   "id": "2192f166",
   "metadata": {},
   "outputs": [],
   "source": [
    "# precisions >= 0.7"
   ]
  },
  {
   "cell_type": "code",
   "execution_count": 24,
   "id": "9a40f5ee",
   "metadata": {},
   "outputs": [
    {
     "data": {
      "text/plain": [
       "295"
      ]
     },
     "execution_count": 24,
     "metadata": {},
     "output_type": "execute_result"
    }
   ],
   "source": [
    "np.argmax(precisions >= 0.7)"
   ]
  },
  {
   "cell_type": "code",
   "execution_count": 25,
   "id": "953cf53b",
   "metadata": {},
   "outputs": [
    {
     "data": {
      "text/plain": [
       "0.6923723311446429"
      ]
     },
     "execution_count": 25,
     "metadata": {},
     "output_type": "execute_result"
    }
   ],
   "source": [
    "thresholds[np.argmax(precisions >= 0.7)]"
   ]
  },
  {
   "cell_type": "code",
   "execution_count": 26,
   "id": "8b36a2ec",
   "metadata": {},
   "outputs": [
    {
     "data": {
      "image/png": "[encoded data removed]",
      "text/plain": [
       "<Figure size 432x288 with 1 Axes>"
      ]
     },
     "metadata": {
      "needs_background": "light"
     },
     "output_type": "display_data"
    }
   ],
   "source": [
    "plt.title('Precision_Recall Curve')\n",
    "sns.lineplot(recalls, precisions);\n",
    "plt.xlabel('Recall');\n",
    "plt.ylabel('Precision');"
   ]
  },
  {
   "cell_type": "code",
   "execution_count": null,
   "id": "53f3b360",
   "metadata": {},
   "outputs": [],
   "source": []
  },
  {
   "cell_type": "code",
   "execution_count": null,
   "id": "799996b5",
   "metadata": {},
   "outputs": [],
   "source": []
  },
  {
   "cell_type": "markdown",
   "id": "3756428c",
   "metadata": {},
   "source": [
    "### select threshold using f1 score"
   ]
  },
  {
   "cell_type": "code",
   "execution_count": 27,
   "id": "d84add62",
   "metadata": {},
   "outputs": [
    {
     "data": {
      "text/plain": [
       "0.4654731457800512"
      ]
     },
     "execution_count": 27,
     "metadata": {},
     "output_type": "execute_result"
    }
   ],
   "source": [
    "(2*precisions[0]*recalls[0])/(precisions[0]+recalls[0])"
   ]
  },
  {
   "cell_type": "code",
   "execution_count": 28,
   "id": "c8d0c9fc",
   "metadata": {},
   "outputs": [
    {
     "data": {
      "text/plain": [
       "array([0.46547315, 0.46153846, 0.45758355, 0.45876289, 0.45994832,\n",
       "       0.4611399 , 0.46233766, 0.46354167, 0.46475196, 0.46596859,\n",
       "       0.4671916 , 0.46315789, 0.46437995, 0.46031746, 0.46153846,\n",
       "       0.46276596, 0.464     , 0.45989305, 0.46112601, 0.46236559,\n",
       "       0.46361186, 0.46486486, 0.46070461, 0.46195652, 0.46321526,\n",
       "       0.46448087, 0.46575342, 0.46703297, 0.46831956, 0.4640884 ,\n",
       "       0.46537396, 0.46666667, 0.46239554, 0.46368715, 0.46498599,\n",
       "       0.46629213, 0.46760563, 0.46892655, 0.46458924, 0.46590909,\n",
       "       0.46723647, 0.46857143, 0.46991404, 0.47126437, 0.47262248,\n",
       "       0.47398844, 0.47536232, 0.47674419, 0.47813411, 0.47953216,\n",
       "       0.48093842, 0.48235294, 0.48377581, 0.4852071 , 0.48664688,\n",
       "       0.48214286, 0.48358209, 0.48502994, 0.48648649, 0.48795181,\n",
       "       0.48338369, 0.47878788, 0.48024316, 0.48170732, 0.48318043,\n",
       "       0.48466258, 0.48      , 0.48148148, 0.47678019, 0.47204969,\n",
       "       0.47352025, 0.475     , 0.47648903, 0.47798742, 0.47318612,\n",
       "       0.47468354, 0.46984127, 0.46496815, 0.46645367, 0.46794872,\n",
       "       0.46945338, 0.47096774, 0.47249191, 0.46753247, 0.46254072,\n",
       "       0.46405229, 0.46557377, 0.46710526, 0.46864686, 0.47019868,\n",
       "       0.4717608 , 0.47333333, 0.47491639, 0.47651007, 0.47811448,\n",
       "       0.47972973, 0.48135593, 0.4829932 , 0.48464164, 0.48630137,\n",
       "       0.48797251, 0.48965517, 0.49134948, 0.48611111, 0.48780488,\n",
       "       0.48951049, 0.49122807, 0.49295775, 0.48763251, 0.4893617 ,\n",
       "       0.4911032 , 0.48571429, 0.4874552 , 0.48920863, 0.49097473,\n",
       "       0.49275362, 0.48727273, 0.48175182, 0.47619048, 0.47058824,\n",
       "       0.47232472, 0.47407407, 0.47583643, 0.47014925, 0.47191011,\n",
       "       0.47368421, 0.4754717 , 0.46969697, 0.47148289, 0.47328244,\n",
       "       0.47509579, 0.46923077, 0.47104247, 0.47286822, 0.47470817,\n",
       "       0.46875   , 0.47058824, 0.47244094, 0.4743083 , 0.47619048,\n",
       "       0.47808765, 0.48      , 0.48192771, 0.48387097, 0.48582996,\n",
       "       0.48780488, 0.48979592, 0.48360656, 0.48559671, 0.48760331,\n",
       "       0.48962656, 0.49166667, 0.49372385, 0.48739496, 0.48945148,\n",
       "       0.49152542, 0.49361702, 0.48717949, 0.48927039, 0.48275862,\n",
       "       0.48484848, 0.47826087, 0.48034934, 0.48245614, 0.4845815 ,\n",
       "       0.48672566, 0.48      , 0.48214286, 0.47533632, 0.47747748,\n",
       "       0.47058824, 0.47272727, 0.47488584, 0.46788991, 0.46082949,\n",
       "       0.4537037 , 0.45581395, 0.45794393, 0.4600939 , 0.46226415,\n",
       "       0.46445498, 0.46666667, 0.45933014, 0.45192308, 0.45410628,\n",
       "       0.44660194, 0.44878049, 0.45098039, 0.45320197, 0.44554455,\n",
       "       0.44776119, 0.45      , 0.45226131, 0.45454545, 0.45685279,\n",
       "       0.45918367, 0.45128205, 0.45360825, 0.45595855, 0.44791667,\n",
       "       0.45026178, 0.44210526, 0.44444444, 0.44680851, 0.44919786,\n",
       "       0.4516129 , 0.44324324, 0.43478261, 0.42622951, 0.41758242,\n",
       "       0.40883978, 0.41111111, 0.41340782, 0.41573034, 0.40677966,\n",
       "       0.40909091, 0.4       , 0.40229885, 0.39306358, 0.39534884,\n",
       "       0.39766082, 0.38823529, 0.37869822, 0.38095238, 0.37125749,\n",
       "       0.37349398, 0.37575758, 0.36585366, 0.36809816, 0.37037037,\n",
       "       0.37267081, 0.375     , 0.37735849, 0.37974684, 0.36942675,\n",
       "       0.37179487, 0.36129032, 0.35064935, 0.33986928, 0.34210526,\n",
       "       0.34437086, 0.33333333, 0.33557047, 0.32432432, 0.32653061,\n",
       "       0.32876712, 0.33103448, 0.31944444, 0.30769231, 0.30985915,\n",
       "       0.29787234, 0.3       , 0.28776978, 0.27536232, 0.27737226,\n",
       "       0.26470588, 0.26666667, 0.25373134, 0.2406015 , 0.24242424,\n",
       "       0.22900763, 0.23076923, 0.23255814, 0.234375  , 0.23622047,\n",
       "       0.23809524, 0.24      , 0.24193548, 0.22764228, 0.2295082 ,\n",
       "       0.23140496, 0.23333333, 0.23529412, 0.23728814, 0.23931624,\n",
       "       0.24137931, 0.24347826, 0.22807018, 0.21238938, 0.21428571,\n",
       "       0.1981982 , 0.2       , 0.18348624, 0.16666667, 0.14953271,\n",
       "       0.1509434 , 0.13333333, 0.13461538, 0.11650485, 0.11764706,\n",
       "       0.11881188, 0.1       , 0.1010101 , 0.08163265, 0.08247423,\n",
       "       0.08333333, 0.08421053, 0.06382979, 0.04301075, 0.02173913,\n",
       "       0.        ])"
      ]
     },
     "execution_count": 28,
     "metadata": {},
     "output_type": "execute_result"
    }
   ],
   "source": [
    "(2*precisions*recalls)/(precisions+recalls)"
   ]
  },
  {
   "cell_type": "code",
   "execution_count": 29,
   "id": "1cbf0fed",
   "metadata": {},
   "outputs": [],
   "source": [
    "# np.argmax([1,4,3])"
   ]
  },
  {
   "cell_type": "code",
   "execution_count": 30,
   "id": "82c4a580",
   "metadata": {},
   "outputs": [
    {
     "data": {
      "text/plain": [
       "0.49372384937238495"
      ]
     },
     "execution_count": 30,
     "metadata": {},
     "output_type": "execute_result"
    }
   ],
   "source": [
    "np.max((2*precisions*recalls)/(precisions+recalls))"
   ]
  },
  {
   "cell_type": "code",
   "execution_count": 31,
   "id": "7da960ae",
   "metadata": {},
   "outputs": [
    {
     "data": {
      "text/plain": [
       "152"
      ]
     },
     "execution_count": 31,
     "metadata": {},
     "output_type": "execute_result"
    }
   ],
   "source": [
    "np.argmax((2*precisions*recalls)/(precisions+recalls))"
   ]
  },
  {
   "cell_type": "code",
   "execution_count": 32,
   "id": "da8c479f",
   "metadata": {},
   "outputs": [
    {
     "data": {
      "text/plain": [
       "0.2561842823320565"
      ]
     },
     "execution_count": 32,
     "metadata": {},
     "output_type": "execute_result"
    }
   ],
   "source": [
    "thresholds[152]"
   ]
  },
  {
   "cell_type": "code",
   "execution_count": 33,
   "id": "7a5b23e6",
   "metadata": {},
   "outputs": [
    {
     "data": {
      "image/png": "[encoded data removed]",
      "text/plain": [
       "<Figure size 432x288 with 1 Axes>"
      ]
     },
     "metadata": {
      "needs_background": "light"
     },
     "output_type": "display_data"
    }
   ],
   "source": [
    "plt.title('F1-score vs threshold')\n",
    "sns.lineplot(thresholds, ((2*precisions*recalls)/(precisions+recalls))[:-1]);\n",
    "plt.xlabel('threshold');\n",
    "plt.ylabel('F1-score ');"
   ]
  },
  {
   "cell_type": "code",
   "execution_count": null,
   "id": "dcdadb0f",
   "metadata": {},
   "outputs": [],
   "source": []
  },
  {
   "cell_type": "code",
   "execution_count": null,
   "id": "73ace106",
   "metadata": {},
   "outputs": [],
   "source": []
  },
  {
   "cell_type": "code",
   "execution_count": 34,
   "id": "e65a7521",
   "metadata": {},
   "outputs": [],
   "source": [
    "from sklearn.metrics import auc"
   ]
  },
  {
   "cell_type": "code",
   "execution_count": 35,
   "id": "1fc86af0",
   "metadata": {},
   "outputs": [
    {
     "data": {
      "text/plain": [
       "0.42870876733301755"
      ]
     },
     "execution_count": 35,
     "metadata": {},
     "output_type": "execute_result"
    }
   ],
   "source": [
    "auc(recalls,precisions)"
   ]
  },
  {
   "cell_type": "markdown",
   "id": "85c4b99f",
   "metadata": {},
   "source": [
    "# ROC curve"
   ]
  },
  {
   "cell_type": "code",
   "execution_count": 36,
   "id": "cd64beb0",
   "metadata": {},
   "outputs": [],
   "source": [
    "fpr, tpr, thresholds = roc_curve(df1['True_values'], df1['probability_class-1'])"
   ]
  },
  {
   "cell_type": "code",
   "execution_count": 37,
   "id": "b595a020",
   "metadata": {},
   "outputs": [],
   "source": [
    "from sklearn.metrics import roc_auc_score"
   ]
  },
  {
   "cell_type": "code",
   "execution_count": 38,
   "id": "20b37f52",
   "metadata": {},
   "outputs": [
    {
     "name": "stdout",
     "output_type": "stream",
     "text": [
      "AUROC = 0.6200641463799359\n"
     ]
    },
    {
     "data": {
      "image/png": "[encoded data removed]",
      "text/plain": [
       "<Figure size 432x288 with 1 Axes>"
      ]
     },
     "metadata": {
      "needs_background": "light"
     },
     "output_type": "display_data"
    }
   ],
   "source": [
    "plt.title('ROC')\n",
    "sns.lineplot(fpr, tpr);\n",
    "plt.xlabel('fpr');\n",
    "plt.ylabel('tpr');\n",
    "print('AUROC =',roc_auc_score(df1['True_values'], df1['probability_class-1']))"
   ]
  },
  {
   "cell_type": "code",
   "execution_count": 39,
   "id": "69b74684",
   "metadata": {},
   "outputs": [
    {
     "data": {
      "text/plain": [
       "0.6200641463799359"
      ]
     },
     "execution_count": 39,
     "metadata": {},
     "output_type": "execute_result"
    }
   ],
   "source": [
    "auc(fpr,tpr)"
   ]
  },
  {
   "cell_type": "code",
   "execution_count": null,
   "id": "47f8bd0c",
   "metadata": {},
   "outputs": [],
   "source": []
  },
  {
   "cell_type": "code",
   "execution_count": null,
   "id": "3117a545",
   "metadata": {},
   "outputs": [],
   "source": []
  }
 ],
 "metadata": {
  "kernelspec": {
   "display_name": "Python 3 (ipykernel)",
   "language": "python",
   "name": "python3"
  },
  "language_info": {
   "codemirror_mode": {
    "name": "ipython",
    "version": 3
   },
   "file_extension": ".py",
   "mimetype": "text/x-python",
   "name": "python",
   "nbconvert_exporter": "python",
   "pygments_lexer": "ipython3",
   "version": "3.9.12"
  }
 },
 "nbformat": 4,
 "nbformat_minor": 5
}
